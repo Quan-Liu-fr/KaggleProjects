{
 "cells": [
  {
   "cell_type": "code",
   "execution_count": 78,
   "id": "aaeb7bf9",
   "metadata": {},
   "outputs": [],
   "source": [
    "# data set path \n",
    "path = \"D:\\Self_Train\\Step2_Project\\Titanic\"\n",
    "training_org  = r\"\\train.csv\"\n",
    "test_org = r\"\\test.csv\"\n",
    "result = r\"\\gender_submission.csv\""
   ]
  },
  {
   "cell_type": "code",
   "execution_count": 2,
   "id": "6d13029a",
   "metadata": {},
   "outputs": [],
   "source": [
    "import pandas as pd\n",
    "import numpy as np\n",
    "import matplotlib.pyplot as plt\n",
    "%matplotlib inline\n",
    "import seaborn as sns"
   ]
  },
  {
   "cell_type": "code",
   "execution_count": 49,
   "id": "85112e38",
   "metadata": {},
   "outputs": [],
   "source": [
    "train_data = pd.read_csv(path+training_org,index_col = 'PassengerId')\n",
    "test_data = pd.read_csv(path+test_org,index_col = 'PassengerId')\n",
    "test_result = pd.read_csv(path+result,index_col = 'PassengerId')"
   ]
  },
  {
   "cell_type": "code",
   "execution_count": 4,
   "id": "dbfec205",
   "metadata": {},
   "outputs": [
    {
     "name": "stdout",
     "output_type": "stream",
     "text": [
      "<class 'pandas.core.frame.DataFrame'>\n",
      "Index: 891 entries, 1 to 891\n",
      "Data columns (total 11 columns):\n",
      " #   Column    Non-Null Count  Dtype  \n",
      "---  ------    --------------  -----  \n",
      " 0   Survived  891 non-null    int64  \n",
      " 1   Pclass    891 non-null    int64  \n",
      " 2   Name      891 non-null    object \n",
      " 3   Sex       891 non-null    object \n",
      " 4   Age       714 non-null    float64\n",
      " 5   SibSp     891 non-null    int64  \n",
      " 6   Parch     891 non-null    int64  \n",
      " 7   Ticket    891 non-null    object \n",
      " 8   Fare      891 non-null    float64\n",
      " 9   Cabin     204 non-null    object \n",
      " 10  Embarked  889 non-null    object \n",
      "dtypes: float64(2), int64(4), object(5)\n",
      "memory usage: 83.5+ KB\n"
     ]
    }
   ],
   "source": [
    "train_data.info( )"
   ]
  },
  {
   "cell_type": "code",
   "execution_count": 5,
   "id": "c0fd0a78",
   "metadata": {},
   "outputs": [
    {
     "data": {
      "text/plain": [
       "Survived      0\n",
       "Pclass        0\n",
       "Name          0\n",
       "Sex           0\n",
       "Age         177\n",
       "SibSp         0\n",
       "Parch         0\n",
       "Ticket        0\n",
       "Fare          0\n",
       "Cabin       687\n",
       "Embarked      2\n",
       "dtype: int64"
      ]
     },
     "execution_count": 5,
     "metadata": {},
     "output_type": "execute_result"
    }
   ],
   "source": [
    "train_data.isnull().sum()"
   ]
  },
  {
   "cell_type": "code",
   "execution_count": 6,
   "id": "43498bc9",
   "metadata": {},
   "outputs": [
    {
     "name": "stdout",
     "output_type": "stream",
     "text": [
      "<class 'pandas.core.frame.DataFrame'>\n",
      "Index: 418 entries, 892 to 1309\n",
      "Data columns (total 10 columns):\n",
      " #   Column    Non-Null Count  Dtype  \n",
      "---  ------    --------------  -----  \n",
      " 0   Pclass    418 non-null    int64  \n",
      " 1   Name      418 non-null    object \n",
      " 2   Sex       418 non-null    object \n",
      " 3   Age       332 non-null    float64\n",
      " 4   SibSp     418 non-null    int64  \n",
      " 5   Parch     418 non-null    int64  \n",
      " 6   Ticket    418 non-null    object \n",
      " 7   Fare      417 non-null    float64\n",
      " 8   Cabin     91 non-null     object \n",
      " 9   Embarked  418 non-null    object \n",
      "dtypes: float64(2), int64(3), object(5)\n",
      "memory usage: 35.9+ KB\n"
     ]
    }
   ],
   "source": [
    "test_data.info()"
   ]
  },
  {
   "cell_type": "code",
   "execution_count": 7,
   "id": "a36720c8",
   "metadata": {},
   "outputs": [
    {
     "data": {
      "text/plain": [
       "Pclass        0\n",
       "Name          0\n",
       "Sex           0\n",
       "Age          86\n",
       "SibSp         0\n",
       "Parch         0\n",
       "Ticket        0\n",
       "Fare          1\n",
       "Cabin       327\n",
       "Embarked      0\n",
       "dtype: int64"
      ]
     },
     "execution_count": 7,
     "metadata": {},
     "output_type": "execute_result"
    }
   ],
   "source": [
    "test_data.isnull().sum()"
   ]
  },
  {
   "cell_type": "raw",
   "id": "1306fe73",
   "metadata": {},
   "source": [
    "Train Dataset: \n",
    "    Age, Cabin, Embarked have missing values\n",
    "Test Dataset: \n",
    "    Age, Fare, Cabin have missing values"
   ]
  },
  {
   "cell_type": "raw",
   "id": "c21ec2cc",
   "metadata": {},
   "source": [
    "Feature informations: \n",
    "\"\"\"\n",
    "Survived\t0 = No, 1 = Yes\n",
    "pclass\tTicket class\t1 = 1st, 2 = 2nd, 3 = 3rd\n",
    "sibsp\t# of siblings / spouses aboard the Titanic\n",
    "parch\t# of parents / children aboard the Titanic\n",
    "ticket\tTicket number\t\n",
    "fare\tPassenger fare\t\n",
    "cabin\tCabin number\t\n",
    "embarked\tPort of Embarkation\tC = Cherbourg, Q = Queenstown, S = Southampton\n",
    "pclass: A proxy for socio-economic status (SES)\n",
    "1st = Upper\n",
    "2nd = Middle\n",
    "3rd = Lower\n",
    "age: Age is fractional if less than 1. If the age is estimated, is it in the form of xx.5\n",
    "sibsp: The dataset defines family relations in this way...\n",
    "Sibling = brother, sister, stepbrother, stepsister\n",
    "Spouse = husband, wife (mistresses and fiancés were ignored)\n",
    "parch: The dataset defines family relations in this way...\n",
    "Parent = mother, father\n",
    "Child = daughter, son, stepdaughter, stepson\n",
    "Some children travelled only with a nanny, therefore parch=0 for them.\n",
    "\"\"\"   \n"
   ]
  },
  {
   "cell_type": "markdown",
   "id": "9872c8d1",
   "metadata": {},
   "source": [
    "# First Data Analyse \n",
    "* Visualization\n",
    "* Observation\n",
    "* Cleaning (missing value, abnoraml values) \n",
    "* Featire selection (first selection, drop the useless or obviously non-related) \n",
    "\n",
    "\n",
    "** (train_data, test_data)"
   ]
  },
  {
   "cell_type": "code",
   "execution_count": 8,
   "id": "644800f8",
   "metadata": {},
   "outputs": [
    {
     "data": {
      "text/html": [
       "<div>\n",
       "<style scoped>\n",
       "    .dataframe tbody tr th:only-of-type {\n",
       "        vertical-align: middle;\n",
       "    }\n",
       "\n",
       "    .dataframe tbody tr th {\n",
       "        vertical-align: top;\n",
       "    }\n",
       "\n",
       "    .dataframe thead th {\n",
       "        text-align: right;\n",
       "    }\n",
       "</style>\n",
       "<table border=\"1\" class=\"dataframe\">\n",
       "  <thead>\n",
       "    <tr style=\"text-align: right;\">\n",
       "      <th></th>\n",
       "      <th>Age</th>\n",
       "      <th>Fare</th>\n",
       "    </tr>\n",
       "  </thead>\n",
       "  <tbody>\n",
       "    <tr>\n",
       "      <th>count</th>\n",
       "      <td>714.000000</td>\n",
       "      <td>891.000000</td>\n",
       "    </tr>\n",
       "    <tr>\n",
       "      <th>mean</th>\n",
       "      <td>29.699118</td>\n",
       "      <td>32.204208</td>\n",
       "    </tr>\n",
       "    <tr>\n",
       "      <th>std</th>\n",
       "      <td>14.526497</td>\n",
       "      <td>49.693429</td>\n",
       "    </tr>\n",
       "    <tr>\n",
       "      <th>min</th>\n",
       "      <td>0.420000</td>\n",
       "      <td>0.000000</td>\n",
       "    </tr>\n",
       "    <tr>\n",
       "      <th>25%</th>\n",
       "      <td>20.125000</td>\n",
       "      <td>7.910400</td>\n",
       "    </tr>\n",
       "    <tr>\n",
       "      <th>50%</th>\n",
       "      <td>28.000000</td>\n",
       "      <td>14.454200</td>\n",
       "    </tr>\n",
       "    <tr>\n",
       "      <th>75%</th>\n",
       "      <td>38.000000</td>\n",
       "      <td>31.000000</td>\n",
       "    </tr>\n",
       "    <tr>\n",
       "      <th>max</th>\n",
       "      <td>80.000000</td>\n",
       "      <td>512.329200</td>\n",
       "    </tr>\n",
       "  </tbody>\n",
       "</table>\n",
       "</div>"
      ],
      "text/plain": [
       "              Age        Fare\n",
       "count  714.000000  891.000000\n",
       "mean    29.699118   32.204208\n",
       "std     14.526497   49.693429\n",
       "min      0.420000    0.000000\n",
       "25%     20.125000    7.910400\n",
       "50%     28.000000   14.454200\n",
       "75%     38.000000   31.000000\n",
       "max     80.000000  512.329200"
      ]
     },
     "execution_count": 8,
     "metadata": {},
     "output_type": "execute_result"
    }
   ],
   "source": [
    "# Continuous (numeracal feature) data describe\n",
    "train_data[['Age', 'Fare']].describe()"
   ]
  },
  {
   "cell_type": "code",
   "execution_count": 9,
   "id": "593f4048",
   "metadata": {},
   "outputs": [
    {
     "data": {
      "text/html": [
       "<div>\n",
       "<style scoped>\n",
       "    .dataframe tbody tr th:only-of-type {\n",
       "        vertical-align: middle;\n",
       "    }\n",
       "\n",
       "    .dataframe tbody tr th {\n",
       "        vertical-align: top;\n",
       "    }\n",
       "\n",
       "    .dataframe thead th {\n",
       "        text-align: right;\n",
       "    }\n",
       "</style>\n",
       "<table border=\"1\" class=\"dataframe\">\n",
       "  <thead>\n",
       "    <tr style=\"text-align: right;\">\n",
       "      <th></th>\n",
       "      <th>Age</th>\n",
       "      <th>Fare</th>\n",
       "    </tr>\n",
       "  </thead>\n",
       "  <tbody>\n",
       "    <tr>\n",
       "      <th>count</th>\n",
       "      <td>332.000000</td>\n",
       "      <td>417.000000</td>\n",
       "    </tr>\n",
       "    <tr>\n",
       "      <th>mean</th>\n",
       "      <td>30.272590</td>\n",
       "      <td>35.627188</td>\n",
       "    </tr>\n",
       "    <tr>\n",
       "      <th>std</th>\n",
       "      <td>14.181209</td>\n",
       "      <td>55.907576</td>\n",
       "    </tr>\n",
       "    <tr>\n",
       "      <th>min</th>\n",
       "      <td>0.170000</td>\n",
       "      <td>0.000000</td>\n",
       "    </tr>\n",
       "    <tr>\n",
       "      <th>25%</th>\n",
       "      <td>21.000000</td>\n",
       "      <td>7.895800</td>\n",
       "    </tr>\n",
       "    <tr>\n",
       "      <th>50%</th>\n",
       "      <td>27.000000</td>\n",
       "      <td>14.454200</td>\n",
       "    </tr>\n",
       "    <tr>\n",
       "      <th>75%</th>\n",
       "      <td>39.000000</td>\n",
       "      <td>31.500000</td>\n",
       "    </tr>\n",
       "    <tr>\n",
       "      <th>max</th>\n",
       "      <td>76.000000</td>\n",
       "      <td>512.329200</td>\n",
       "    </tr>\n",
       "  </tbody>\n",
       "</table>\n",
       "</div>"
      ],
      "text/plain": [
       "              Age        Fare\n",
       "count  332.000000  417.000000\n",
       "mean    30.272590   35.627188\n",
       "std     14.181209   55.907576\n",
       "min      0.170000    0.000000\n",
       "25%     21.000000    7.895800\n",
       "50%     27.000000   14.454200\n",
       "75%     39.000000   31.500000\n",
       "max     76.000000  512.329200"
      ]
     },
     "execution_count": 9,
     "metadata": {},
     "output_type": "execute_result"
    }
   ],
   "source": [
    "test_data[['Age', 'Fare']].describe()"
   ]
  },
  {
   "cell_type": "markdown",
   "id": "17f559a3",
   "metadata": {},
   "source": [
    "# Feature Fare\n",
    "* Abnormal fare information\n",
    "* missing information (only on test set)\n",
    "\n",
    "on train set and test set"
   ]
  },
  {
   "cell_type": "code",
   "execution_count": 10,
   "id": "81d7b99a",
   "metadata": {},
   "outputs": [
    {
     "name": "stdout",
     "output_type": "stream",
     "text": [
      "Fare mean is 32.204\n",
      "Fare median is 14.454\n",
      "Fare quantile 25% is 7.910\n",
      "Fare quantile 75% is 31.000\n",
      "Fare max is 512.329\n",
      "Fare & Survived\n"
     ]
    },
    {
     "data": {
      "text/html": [
       "<div>\n",
       "<style scoped>\n",
       "    .dataframe tbody tr th:only-of-type {\n",
       "        vertical-align: middle;\n",
       "    }\n",
       "\n",
       "    .dataframe tbody tr th {\n",
       "        vertical-align: top;\n",
       "    }\n",
       "\n",
       "    .dataframe thead th {\n",
       "        text-align: right;\n",
       "    }\n",
       "</style>\n",
       "<table border=\"1\" class=\"dataframe\">\n",
       "  <thead>\n",
       "    <tr style=\"text-align: right;\">\n",
       "      <th></th>\n",
       "      <th>Fare</th>\n",
       "    </tr>\n",
       "    <tr>\n",
       "      <th>Survived</th>\n",
       "      <th></th>\n",
       "    </tr>\n",
       "  </thead>\n",
       "  <tbody>\n",
       "    <tr>\n",
       "      <th>0</th>\n",
       "      <td>22.117887</td>\n",
       "    </tr>\n",
       "    <tr>\n",
       "      <th>1</th>\n",
       "      <td>48.395408</td>\n",
       "    </tr>\n",
       "  </tbody>\n",
       "</table>\n",
       "</div>"
      ],
      "text/plain": [
       "               Fare\n",
       "Survived           \n",
       "0         22.117887\n",
       "1         48.395408"
      ]
     },
     "execution_count": 10,
     "metadata": {},
     "output_type": "execute_result"
    },
    {
     "data": {
      "image/png": "[encoded data removed]",
      "text/plain": [
       "<Figure size 640x480 with 1 Axes>"
      ]
     },
     "metadata": {},
     "output_type": "display_data"
    }
   ],
   "source": [
    "# Fare _ train set\n",
    "plt.hist(train_data.Fare, bins = 20, color = 'blue', alpha = 0.7)\n",
    "plt.title('Fare informations');\n",
    "'''\n",
    "                 Fare\n",
    "Survived\t\n",
    "   0\t       22.117887\n",
    "   1\t       48.395408\n",
    "'''\n",
    "print('Fare mean is {:.3f}'.format(train_data.Fare.mean()))\n",
    "print('Fare median is {:.3f}'.format(train_data.Fare.median()))\n",
    "print('Fare quantile 25% is {:.3f}'.format(train_data.Fare.quantile(0.25)))\n",
    "print('Fare quantile 75% is {:.3f}'.format(train_data.Fare.quantile(0.75)))\n",
    "print('Fare max is {:.3f}'.format(train_data.Fare.max()))\n",
    "print('Fare & Survived')\n",
    "train_data[['Fare','Survived']].groupby('Survived').mean()"
   ]
  },
  {
   "cell_type": "code",
   "execution_count": 11,
   "id": "a4f541a6",
   "metadata": {},
   "outputs": [
    {
     "data": {
      "text/html": [
       "<div>\n",
       "<style scoped>\n",
       "    .dataframe tbody tr th:only-of-type {\n",
       "        vertical-align: middle;\n",
       "    }\n",
       "\n",
       "    .dataframe tbody tr th {\n",
       "        vertical-align: top;\n",
       "    }\n",
       "\n",
       "    .dataframe thead tr th {\n",
       "        text-align: left;\n",
       "    }\n",
       "\n",
       "    .dataframe thead tr:last-of-type th {\n",
       "        text-align: right;\n",
       "    }\n",
       "</style>\n",
       "<table border=\"1\" class=\"dataframe\">\n",
       "  <thead>\n",
       "    <tr>\n",
       "      <th></th>\n",
       "      <th colspan=\"3\" halign=\"left\">Fare</th>\n",
       "    </tr>\n",
       "    <tr>\n",
       "      <th></th>\n",
       "      <th>min</th>\n",
       "      <th>max</th>\n",
       "      <th>mean</th>\n",
       "    </tr>\n",
       "    <tr>\n",
       "      <th>Pclass</th>\n",
       "      <th></th>\n",
       "      <th></th>\n",
       "      <th></th>\n",
       "    </tr>\n",
       "  </thead>\n",
       "  <tbody>\n",
       "    <tr>\n",
       "      <th>1</th>\n",
       "      <td>0.0</td>\n",
       "      <td>512.3292</td>\n",
       "      <td>84.154687</td>\n",
       "    </tr>\n",
       "    <tr>\n",
       "      <th>2</th>\n",
       "      <td>0.0</td>\n",
       "      <td>73.5000</td>\n",
       "      <td>20.662183</td>\n",
       "    </tr>\n",
       "    <tr>\n",
       "      <th>3</th>\n",
       "      <td>0.0</td>\n",
       "      <td>69.5500</td>\n",
       "      <td>13.675550</td>\n",
       "    </tr>\n",
       "  </tbody>\n",
       "</table>\n",
       "</div>"
      ],
      "text/plain": [
       "       Fare                     \n",
       "        min       max       mean\n",
       "Pclass                          \n",
       "1       0.0  512.3292  84.154687\n",
       "2       0.0   73.5000  20.662183\n",
       "3       0.0   69.5500  13.675550"
      ]
     },
     "execution_count": 11,
     "metadata": {},
     "output_type": "execute_result"
    }
   ],
   "source": [
    "fagg = {'Fare': ['min','max','mean']}\n",
    "train_data.groupby('Pclass').agg(fagg)"
   ]
  },
  {
   "cell_type": "code",
   "execution_count": 12,
   "id": "857258d9",
   "metadata": {},
   "outputs": [
    {
     "data": {
      "text/html": [
       "<div>\n",
       "<style scoped>\n",
       "    .dataframe tbody tr th:only-of-type {\n",
       "        vertical-align: middle;\n",
       "    }\n",
       "\n",
       "    .dataframe tbody tr th {\n",
       "        vertical-align: top;\n",
       "    }\n",
       "\n",
       "    .dataframe thead th {\n",
       "        text-align: right;\n",
       "    }\n",
       "</style>\n",
       "<table border=\"1\" class=\"dataframe\">\n",
       "  <thead>\n",
       "    <tr style=\"text-align: right;\">\n",
       "      <th></th>\n",
       "      <th>Survived</th>\n",
       "      <th>Pclass</th>\n",
       "      <th>Name</th>\n",
       "      <th>Sex</th>\n",
       "      <th>Age</th>\n",
       "      <th>SibSp</th>\n",
       "      <th>Parch</th>\n",
       "      <th>Ticket</th>\n",
       "      <th>Fare</th>\n",
       "      <th>Cabin</th>\n",
       "      <th>Embarked</th>\n",
       "    </tr>\n",
       "    <tr>\n",
       "      <th>PassengerId</th>\n",
       "      <th></th>\n",
       "      <th></th>\n",
       "      <th></th>\n",
       "      <th></th>\n",
       "      <th></th>\n",
       "      <th></th>\n",
       "      <th></th>\n",
       "      <th></th>\n",
       "      <th></th>\n",
       "      <th></th>\n",
       "      <th></th>\n",
       "    </tr>\n",
       "  </thead>\n",
       "  <tbody>\n",
       "    <tr>\n",
       "      <th>733</th>\n",
       "      <td>0</td>\n",
       "      <td>2</td>\n",
       "      <td>Knight, Mr. Robert J</td>\n",
       "      <td>male</td>\n",
       "      <td>NaN</td>\n",
       "      <td>0</td>\n",
       "      <td>0</td>\n",
       "      <td>239855</td>\n",
       "      <td>0.0</td>\n",
       "      <td>NaN</td>\n",
       "      <td>S</td>\n",
       "    </tr>\n",
       "    <tr>\n",
       "      <th>675</th>\n",
       "      <td>0</td>\n",
       "      <td>2</td>\n",
       "      <td>Watson, Mr. Ennis Hastings</td>\n",
       "      <td>male</td>\n",
       "      <td>NaN</td>\n",
       "      <td>0</td>\n",
       "      <td>0</td>\n",
       "      <td>239856</td>\n",
       "      <td>0.0</td>\n",
       "      <td>NaN</td>\n",
       "      <td>S</td>\n",
       "    </tr>\n",
       "    <tr>\n",
       "      <th>272</th>\n",
       "      <td>1</td>\n",
       "      <td>3</td>\n",
       "      <td>Tornquist, Mr. William Henry</td>\n",
       "      <td>male</td>\n",
       "      <td>25.0</td>\n",
       "      <td>0</td>\n",
       "      <td>0</td>\n",
       "      <td>LINE</td>\n",
       "      <td>0.0</td>\n",
       "      <td>NaN</td>\n",
       "      <td>S</td>\n",
       "    </tr>\n",
       "    <tr>\n",
       "      <th>264</th>\n",
       "      <td>0</td>\n",
       "      <td>1</td>\n",
       "      <td>Harrison, Mr. William</td>\n",
       "      <td>male</td>\n",
       "      <td>40.0</td>\n",
       "      <td>0</td>\n",
       "      <td>0</td>\n",
       "      <td>112059</td>\n",
       "      <td>0.0</td>\n",
       "      <td>B94</td>\n",
       "      <td>S</td>\n",
       "    </tr>\n",
       "    <tr>\n",
       "      <th>634</th>\n",
       "      <td>0</td>\n",
       "      <td>1</td>\n",
       "      <td>Parr, Mr. William Henry Marsh</td>\n",
       "      <td>male</td>\n",
       "      <td>NaN</td>\n",
       "      <td>0</td>\n",
       "      <td>0</td>\n",
       "      <td>112052</td>\n",
       "      <td>0.0</td>\n",
       "      <td>NaN</td>\n",
       "      <td>S</td>\n",
       "    </tr>\n",
       "  </tbody>\n",
       "</table>\n",
       "</div>"
      ],
      "text/plain": [
       "             Survived  Pclass                           Name   Sex   Age  \\\n",
       "PassengerId                                                                \n",
       "733                 0       2           Knight, Mr. Robert J  male   NaN   \n",
       "675                 0       2     Watson, Mr. Ennis Hastings  male   NaN   \n",
       "272                 1       3   Tornquist, Mr. William Henry  male  25.0   \n",
       "264                 0       1          Harrison, Mr. William  male  40.0   \n",
       "634                 0       1  Parr, Mr. William Henry Marsh  male   NaN   \n",
       "\n",
       "             SibSp  Parch  Ticket  Fare Cabin Embarked  \n",
       "PassengerId                                             \n",
       "733              0      0  239855   0.0   NaN        S  \n",
       "675              0      0  239856   0.0   NaN        S  \n",
       "272              0      0    LINE   0.0   NaN        S  \n",
       "264              0      0  112059   0.0   B94        S  \n",
       "634              0      0  112052   0.0   NaN        S  "
      ]
     },
     "execution_count": 12,
     "metadata": {},
     "output_type": "execute_result"
    }
   ],
   "source": [
    "train_data[train_data['Fare']==0].sample(5)"
   ]
  },
  {
   "cell_type": "raw",
   "id": "18ee24ee",
   "metadata": {},
   "source": [
    "There are some Fare = 0 for each class, which shall be replaced or dropped\n",
    "In this cas, we use the mean of each class to replace zeros \n",
    "Idem for test data set"
   ]
  },
  {
   "cell_type": "code",
   "execution_count": 13,
   "id": "855fa709",
   "metadata": {},
   "outputs": [
    {
     "name": "stdout",
     "output_type": "stream",
     "text": [
      "mean fare of class 1, 2, 3 are: 84.15, 20.66, 13.68\n"
     ]
    }
   ],
   "source": [
    "#### Trait the Fare information (train_data)\n",
    "# some fare is zero for class 1, 2 and 3\n",
    "# use the mean value to replace the 0s\n",
    "mean_pclass1 = train_data[train_data['Pclass']==1]['Fare'].mean()\n",
    "mean_pclass2 = train_data[train_data['Pclass']==2]['Fare'].mean()\n",
    "mean_pclass3 = train_data[train_data['Pclass']==3]['Fare'].mean()\n",
    "print('mean fare of class 1, 2, 3 are: {:.2f}, {:.2f}, {:.2f}'.format(mean_pclass1,\n",
    "                                                                     mean_pclass2,\n",
    "                                                                     mean_pclass3))\n",
    "train_data.loc[(train_data['Pclass']==1) & (train_data['Fare']==0)] = train_data.loc[(train_data['Pclass']==1) & (train_data['Fare']==0)].replace({'Fare':0},mean_pclass1)\n",
    "train_data.loc[(train_data['Pclass']==2) & (train_data['Fare']==0)] = train_data.loc[(train_data['Pclass']==2) & (train_data['Fare']==0)].replace({'Fare':0},mean_pclass2)\n",
    "train_data.loc[(train_data['Pclass']==3) & (train_data['Fare']==0)] = train_data.loc[(train_data['Pclass']==3) & (train_data['Fare']==0)].replace({'Fare':0},mean_pclass3)"
   ]
  },
  {
   "cell_type": "code",
   "execution_count": 14,
   "id": "30200c8b",
   "metadata": {},
   "outputs": [
    {
     "name": "stdout",
     "output_type": "stream",
     "text": [
      "original test set Fare informations:\n"
     ]
    },
    {
     "data": {
      "text/html": [
       "<div>\n",
       "<style scoped>\n",
       "    .dataframe tbody tr th:only-of-type {\n",
       "        vertical-align: middle;\n",
       "    }\n",
       "\n",
       "    .dataframe tbody tr th {\n",
       "        vertical-align: top;\n",
       "    }\n",
       "\n",
       "    .dataframe thead tr th {\n",
       "        text-align: left;\n",
       "    }\n",
       "\n",
       "    .dataframe thead tr:last-of-type th {\n",
       "        text-align: right;\n",
       "    }\n",
       "</style>\n",
       "<table border=\"1\" class=\"dataframe\">\n",
       "  <thead>\n",
       "    <tr>\n",
       "      <th></th>\n",
       "      <th colspan=\"3\" halign=\"left\">Fare</th>\n",
       "    </tr>\n",
       "    <tr>\n",
       "      <th></th>\n",
       "      <th>min</th>\n",
       "      <th>max</th>\n",
       "      <th>mean</th>\n",
       "    </tr>\n",
       "    <tr>\n",
       "      <th>Pclass</th>\n",
       "      <th></th>\n",
       "      <th></th>\n",
       "      <th></th>\n",
       "    </tr>\n",
       "  </thead>\n",
       "  <tbody>\n",
       "    <tr>\n",
       "      <th>1</th>\n",
       "      <td>0.0000</td>\n",
       "      <td>512.3292</td>\n",
       "      <td>94.280297</td>\n",
       "    </tr>\n",
       "    <tr>\n",
       "      <th>2</th>\n",
       "      <td>9.6875</td>\n",
       "      <td>73.5000</td>\n",
       "      <td>22.202104</td>\n",
       "    </tr>\n",
       "    <tr>\n",
       "      <th>3</th>\n",
       "      <td>3.1708</td>\n",
       "      <td>69.5500</td>\n",
       "      <td>12.459678</td>\n",
       "    </tr>\n",
       "  </tbody>\n",
       "</table>\n",
       "</div>"
      ],
      "text/plain": [
       "          Fare                     \n",
       "           min       max       mean\n",
       "Pclass                             \n",
       "1       0.0000  512.3292  94.280297\n",
       "2       9.6875   73.5000  22.202104\n",
       "3       3.1708   69.5500  12.459678"
      ]
     },
     "metadata": {},
     "output_type": "display_data"
    },
    {
     "name": "stdout",
     "output_type": "stream",
     "text": [
      "mean fare of class 1 is: 94.28\n",
      "after replace by mean fare value test set:\n"
     ]
    },
    {
     "data": {
      "text/html": [
       "<div>\n",
       "<style scoped>\n",
       "    .dataframe tbody tr th:only-of-type {\n",
       "        vertical-align: middle;\n",
       "    }\n",
       "\n",
       "    .dataframe tbody tr th {\n",
       "        vertical-align: top;\n",
       "    }\n",
       "\n",
       "    .dataframe thead tr th {\n",
       "        text-align: left;\n",
       "    }\n",
       "\n",
       "    .dataframe thead tr:last-of-type th {\n",
       "        text-align: right;\n",
       "    }\n",
       "</style>\n",
       "<table border=\"1\" class=\"dataframe\">\n",
       "  <thead>\n",
       "    <tr>\n",
       "      <th></th>\n",
       "      <th colspan=\"3\" halign=\"left\">Fare</th>\n",
       "    </tr>\n",
       "    <tr>\n",
       "      <th></th>\n",
       "      <th>min</th>\n",
       "      <th>max</th>\n",
       "      <th>mean</th>\n",
       "    </tr>\n",
       "    <tr>\n",
       "      <th>Pclass</th>\n",
       "      <th></th>\n",
       "      <th></th>\n",
       "      <th></th>\n",
       "    </tr>\n",
       "  </thead>\n",
       "  <tbody>\n",
       "    <tr>\n",
       "      <th>1</th>\n",
       "      <td>25.7000</td>\n",
       "      <td>512.3292</td>\n",
       "      <td>96.042546</td>\n",
       "    </tr>\n",
       "    <tr>\n",
       "      <th>2</th>\n",
       "      <td>9.6875</td>\n",
       "      <td>73.5000</td>\n",
       "      <td>22.202104</td>\n",
       "    </tr>\n",
       "    <tr>\n",
       "      <th>3</th>\n",
       "      <td>3.1708</td>\n",
       "      <td>69.5500</td>\n",
       "      <td>12.459678</td>\n",
       "    </tr>\n",
       "  </tbody>\n",
       "</table>\n",
       "</div>"
      ],
      "text/plain": [
       "           Fare                     \n",
       "            min       max       mean\n",
       "Pclass                              \n",
       "1       25.7000  512.3292  96.042546\n",
       "2        9.6875   73.5000  22.202104\n",
       "3        3.1708   69.5500  12.459678"
      ]
     },
     "metadata": {},
     "output_type": "display_data"
    }
   ],
   "source": [
    "#### Trait the Fare information (test_data)\n",
    "# fare is zero for class 1\n",
    "# use the mean value to replace the 0s\n",
    "print('original test set Fare informations:')\n",
    "display(test_data[['Fare','Pclass']].groupby('Pclass').agg(fagg))\n",
    "\n",
    "mean_pclass1_test = test_data[test_data['Pclass']==1]['Fare'].mean()\n",
    "\n",
    "print('mean fare of class 1 is: {:.2f}'.format(mean_pclass1_test))\n",
    "test_data.loc[(test_data['Pclass']==1) & (test_data['Fare']==0)] = test_data.loc[(test_data['Pclass']==1) & (test_data['Fare']==0)].replace({'Fare':0},mean_pclass1_test)\n",
    "print('after replace by mean fare value test set:')\n",
    "display(test_data[['Fare','Pclass']].groupby('Pclass').agg(fagg))"
   ]
  },
  {
   "cell_type": "code",
   "execution_count": 15,
   "id": "42627673",
   "metadata": {},
   "outputs": [
    {
     "data": {
      "text/html": [
       "<div>\n",
       "<style scoped>\n",
       "    .dataframe tbody tr th:only-of-type {\n",
       "        vertical-align: middle;\n",
       "    }\n",
       "\n",
       "    .dataframe tbody tr th {\n",
       "        vertical-align: top;\n",
       "    }\n",
       "\n",
       "    .dataframe thead th {\n",
       "        text-align: right;\n",
       "    }\n",
       "</style>\n",
       "<table border=\"1\" class=\"dataframe\">\n",
       "  <thead>\n",
       "    <tr style=\"text-align: right;\">\n",
       "      <th></th>\n",
       "      <th>Pclass</th>\n",
       "      <th>Name</th>\n",
       "      <th>Sex</th>\n",
       "      <th>Age</th>\n",
       "      <th>SibSp</th>\n",
       "      <th>Parch</th>\n",
       "      <th>Ticket</th>\n",
       "      <th>Fare</th>\n",
       "      <th>Cabin</th>\n",
       "      <th>Embarked</th>\n",
       "    </tr>\n",
       "    <tr>\n",
       "      <th>PassengerId</th>\n",
       "      <th></th>\n",
       "      <th></th>\n",
       "      <th></th>\n",
       "      <th></th>\n",
       "      <th></th>\n",
       "      <th></th>\n",
       "      <th></th>\n",
       "      <th></th>\n",
       "      <th></th>\n",
       "      <th></th>\n",
       "    </tr>\n",
       "  </thead>\n",
       "  <tbody>\n",
       "    <tr>\n",
       "      <th>1044</th>\n",
       "      <td>3</td>\n",
       "      <td>Storey, Mr. Thomas</td>\n",
       "      <td>male</td>\n",
       "      <td>60.5</td>\n",
       "      <td>0</td>\n",
       "      <td>0</td>\n",
       "      <td>3701</td>\n",
       "      <td>NaN</td>\n",
       "      <td>NaN</td>\n",
       "      <td>S</td>\n",
       "    </tr>\n",
       "  </tbody>\n",
       "</table>\n",
       "</div>"
      ],
      "text/plain": [
       "             Pclass                Name   Sex   Age  SibSp  Parch Ticket  \\\n",
       "PassengerId                                                                \n",
       "1044              3  Storey, Mr. Thomas  male  60.5      0      0   3701   \n",
       "\n",
       "             Fare Cabin Embarked  \n",
       "PassengerId                       \n",
       "1044          NaN   NaN        S  "
      ]
     },
     "execution_count": 15,
     "metadata": {},
     "output_type": "execute_result"
    }
   ],
   "source": [
    "test_data[test_data['Fare'].isnull()]"
   ]
  },
  {
   "cell_type": "code",
   "execution_count": 17,
   "id": "75b72b6a",
   "metadata": {},
   "outputs": [
    {
     "name": "stdout",
     "output_type": "stream",
     "text": [
      "mean fare of class 3 is: 12.46\n"
     ]
    }
   ],
   "source": [
    "# only one Fare has missing value \n",
    "#  replace by mean value\n",
    "\n",
    "mean_pclass3_test = test_data[test_data['Pclass']==3]['Fare'].mean()\n",
    "\n",
    "print('mean fare of class 3 is: {:.2f}'.format(mean_pclass3_test))\n",
    "test_data['Fare'].fillna(mean_pclass3_test,inplace = True)"
   ]
  },
  {
   "cell_type": "code",
   "execution_count": 18,
   "id": "43118149",
   "metadata": {},
   "outputs": [
    {
     "data": {
      "text/plain": [
       "Pclass                       3\n",
       "Name        Storey, Mr. Thomas\n",
       "Sex                       male\n",
       "Age                       60.5\n",
       "SibSp                        0\n",
       "Parch                        0\n",
       "Ticket                    3701\n",
       "Fare                 12.459678\n",
       "Cabin                      NaN\n",
       "Embarked                     S\n",
       "Name: 1044, dtype: object"
      ]
     },
     "execution_count": 18,
     "metadata": {},
     "output_type": "execute_result"
    }
   ],
   "source": [
    "test_data.loc[1044,:]"
   ]
  },
  {
   "cell_type": "code",
   "execution_count": 19,
   "id": "cbd0e87e",
   "metadata": {},
   "outputs": [],
   "source": [
    "# to be used in data preparation later \n",
    "# if the model needs \"dichotomizing discretizations\" \n",
    "fare_bins = [0,20,40,60,80,520]\n",
    "fare_labels = ['low','normal','expensive','expensive+','expensive++']"
   ]
  },
  {
   "cell_type": "markdown",
   "id": "674a99b5",
   "metadata": {},
   "source": [
    "## Conclusion for Fare: \n",
    "    There is no abnormal value in Fare, but some of the fare is strange...\n",
    "    like first class has 5 and 3rd class has 69.55 \n",
    "\n",
    "    Maybe just drop this feature in the future modelling, there is a \n",
    "    relationship between Fare and Pclass, but not clair for the moment"
   ]
  },
  {
   "cell_type": "markdown",
   "id": "85ee10a2",
   "metadata": {},
   "source": [
    "# Feature Age\n",
    "* Missing value : replace by mean\n",
    "\n",
    "on train set and test set"
   ]
  },
  {
   "cell_type": "code",
   "execution_count": 20,
   "id": "bc397072",
   "metadata": {},
   "outputs": [
    {
     "name": "stdout",
     "output_type": "stream",
     "text": [
      "Age mean is 29.699\n",
      "Age median is 28.000\n",
      "Age quantile 25% is 20.125\n",
      "Age quantile 75% is 38.000\n",
      "Age max is 80.000\n",
      "Age & Survived\n"
     ]
    },
    {
     "data": {
      "text/html": [
       "<div>\n",
       "<style scoped>\n",
       "    .dataframe tbody tr th:only-of-type {\n",
       "        vertical-align: middle;\n",
       "    }\n",
       "\n",
       "    .dataframe tbody tr th {\n",
       "        vertical-align: top;\n",
       "    }\n",
       "\n",
       "    .dataframe thead th {\n",
       "        text-align: right;\n",
       "    }\n",
       "</style>\n",
       "<table border=\"1\" class=\"dataframe\">\n",
       "  <thead>\n",
       "    <tr style=\"text-align: right;\">\n",
       "      <th></th>\n",
       "      <th>Age</th>\n",
       "    </tr>\n",
       "    <tr>\n",
       "      <th>Survived</th>\n",
       "      <th></th>\n",
       "    </tr>\n",
       "  </thead>\n",
       "  <tbody>\n",
       "    <tr>\n",
       "      <th>0</th>\n",
       "      <td>30.626179</td>\n",
       "    </tr>\n",
       "    <tr>\n",
       "      <th>1</th>\n",
       "      <td>28.343690</td>\n",
       "    </tr>\n",
       "  </tbody>\n",
       "</table>\n",
       "</div>"
      ],
      "text/plain": [
       "                Age\n",
       "Survived           \n",
       "0         30.626179\n",
       "1         28.343690"
      ]
     },
     "execution_count": 20,
     "metadata": {},
     "output_type": "execute_result"
    },
    {
     "data": {
      "image/png": "[encoded data removed]",
      "text/plain": [
       "<Figure size 640x480 with 1 Axes>"
      ]
     },
     "metadata": {},
     "output_type": "display_data"
    }
   ],
   "source": [
    "# Age\n",
    "plt.hist(train_data.Age, bins = 10, color = 'blue', alpha = 0.7)\n",
    "plt.title('Age informations');\n",
    "print('Age mean is {:.3f}'.format(train_data.Age.mean()))\n",
    "print('Age median is {:.3f}'.format(train_data.Age.median()))\n",
    "print('Age quantile 25% is {:.3f}'.format(train_data.Age.quantile(0.25)))\n",
    "print('Age quantile 75% is {:.3f}'.format(train_data.Age.quantile(0.75)))\n",
    "print('Age max is {:.3f}'.format(train_data.Age.max()))\n",
    "print('Age & Survived')\n",
    "train_data[['Age','Survived']].groupby('Survived').mean()"
   ]
  },
  {
   "cell_type": "code",
   "execution_count": 21,
   "id": "18745a71",
   "metadata": {},
   "outputs": [
    {
     "name": "stdout",
     "output_type": "stream",
     "text": [
      "the mean of age in train set is: 29.70\n"
     ]
    },
    {
     "data": {
      "text/plain": [
       "Survived      0\n",
       "Pclass        0\n",
       "Name          0\n",
       "Sex           0\n",
       "Age           0\n",
       "SibSp         0\n",
       "Parch         0\n",
       "Ticket        0\n",
       "Fare          0\n",
       "Cabin       687\n",
       "Embarked      2\n",
       "dtype: int64"
      ]
     },
     "execution_count": 21,
     "metadata": {},
     "output_type": "execute_result"
    }
   ],
   "source": [
    "# fill na about 20% missing values in 'age' (train_data)\n",
    "print('the mean of age in train set is: {:3.2f}'.format(train_data['Age'].mean()))\n",
    "train_data.loc[:,'Age']= train_data['Age'].fillna(train_data['Age'].mean())\n",
    "train_data.isna().sum()"
   ]
  },
  {
   "cell_type": "code",
   "execution_count": 22,
   "id": "5173176a",
   "metadata": {},
   "outputs": [
    {
     "name": "stdout",
     "output_type": "stream",
     "text": [
      "the mean of age in train set is: 30.27\n"
     ]
    },
    {
     "data": {
      "text/plain": [
       "Pclass        0\n",
       "Name          0\n",
       "Sex           0\n",
       "Age           0\n",
       "SibSp         0\n",
       "Parch         0\n",
       "Ticket        0\n",
       "Fare          0\n",
       "Cabin       327\n",
       "Embarked      0\n",
       "dtype: int64"
      ]
     },
     "execution_count": 22,
     "metadata": {},
     "output_type": "execute_result"
    }
   ],
   "source": [
    "# fill na about 20% missing values in 'age' (test_data)\n",
    "print('the mean of age in train set is: {:3.2f}'.format(test_data['Age'].mean()))\n",
    "test_data.loc[:,'Age']= test_data['Age'].fillna(test_data['Age'].mean())\n",
    "test_data.isna().sum()"
   ]
  },
  {
   "cell_type": "code",
   "execution_count": 23,
   "id": "43bd2178",
   "metadata": {},
   "outputs": [],
   "source": [
    "# to be used in data preparation later\n",
    "age_bin = [0,15,30,50,100]\n",
    "age_labels = ['teenager','adult','adult+','aged']"
   ]
  },
  {
   "cell_type": "markdown",
   "id": "516c35ac",
   "metadata": {},
   "source": [
    "# Feature Pclass, SibSp, Parch\n",
    "* No missing values"
   ]
  },
  {
   "cell_type": "raw",
   "id": "6d351f9c",
   "metadata": {},
   "source": [
    "1. pclass: A proxy for socio-economic status (SES)\n",
    "\n",
    "    1st = Upper\n",
    "\n",
    "    2nd = Middle\n",
    "    \n",
    "    3rd = Lower"
   ]
  },
  {
   "cell_type": "raw",
   "id": "6971414a",
   "metadata": {},
   "source": [
    "2. sibsp\t# of siblings / spouses aboard the Titanic\n",
    "    sibsp: The dataset defines family relations in this way...\n",
    "    \n",
    "    Sibling = brother, sister, stepbrother, stepsister\n",
    "    \n",
    "    Spouse = husband, wife (mistresses and fiancés were ignored)"
   ]
  },
  {
   "cell_type": "raw",
   "id": "87c0865c",
   "metadata": {},
   "source": [
    "3. parch\t# of parents / children aboard the Titanic\n",
    "\n",
    "    parch: The dataset defines family relations in this way...\n",
    "    \n",
    "    Parent = mother, father\n",
    "    \n",
    "    Child = daughter, son, stepdaughter, stepson\n",
    "    \n",
    "    Some children travelled only with a nanny, therefore parch=0 for them."
   ]
  },
  {
   "cell_type": "code",
   "execution_count": 24,
   "id": "04e5dda0",
   "metadata": {},
   "outputs": [
    {
     "name": "stdout",
     "output_type": "stream",
     "text": [
      "Pclass, SibSp, Parch counting informations: \n",
      "        count\n",
      "Pclass       \n",
      "3         491\n",
      "1         216\n",
      "2         184\n",
      "       count\n",
      "SibSp       \n",
      "0        608\n",
      "1        209\n",
      "2         28\n",
      "4         18\n",
      "3         16\n",
      "8          7\n",
      "5          5\n",
      "       count\n",
      "Parch       \n",
      "0        678\n",
      "1        118\n",
      "2         80\n",
      "5          5\n",
      "3          5\n",
      "4          4\n",
      "6          1\n"
     ]
    }
   ],
   "source": [
    "def count_quantities(data, variables):\n",
    "    '''\n",
    "    Function to count quantities for non-continuous data\n",
    "    :param variables: list of variable \n",
    "    :param data: data source \n",
    "    :return: list of count results (count_list)  \n",
    "    :return: dictionary of count results (d_count) \n",
    "    '''\n",
    "    count_list = []\n",
    "    d_count = dict()\n",
    "    for i in variables:\n",
    "        count_list.append(data[i].value_counts())\n",
    "    for name, count in zip(variables, count_list):\n",
    "        d_count[name] = count\n",
    "    return count_list,d_count\n",
    "\n",
    "counts = ['Pclass', 'SibSp', 'Parch']\n",
    "values,dic = count_quantities(train_data,counts)\n",
    "pclass = pd.DataFrame(values[0])\n",
    "print('Pclass, SibSp, Parch counting informations: ')\n",
    "for i in range(len(counts)): \n",
    "    print(pd.DataFrame(values[i]))\n",
    "# pd.DataFrame(dic)  "
   ]
  },
  {
   "cell_type": "code",
   "execution_count": 25,
   "id": "7004ebd6",
   "metadata": {},
   "outputs": [
    {
     "data": {
      "image/png": "[encoded data removed]",
      "text/plain": [
       "<Figure size 640x480 with 1 Axes>"
      ]
     },
     "metadata": {},
     "output_type": "display_data"
    }
   ],
   "source": [
    "plt.bar([1,2,3],values[0])\n",
    "plt.title('Pclass');"
   ]
  },
  {
   "cell_type": "code",
   "execution_count": 26,
   "id": "3f264c32",
   "metadata": {},
   "outputs": [
    {
     "data": {
      "image/png": "[encoded data removed]",
      "text/plain": [
       "<Figure size 640x480 with 1 Axes>"
      ]
     },
     "metadata": {},
     "output_type": "display_data"
    }
   ],
   "source": [
    "sns.set_theme(style='white', context = 'talk')\n",
    "ax = sns.barplot(x = [1,2,3], y=values[0],hue = values[0], palette = \"vlag\",legend = False)\n",
    "ax.set_title('Pclass');"
   ]
  },
  {
   "cell_type": "code",
   "execution_count": 27,
   "id": "20d9eff0",
   "metadata": {},
   "outputs": [
    {
     "data": {
      "image/png": "[encoded data removed]",
      "text/plain": [
       "<Figure size 640x480 with 1 Axes>"
      ]
     },
     "metadata": {},
     "output_type": "display_data"
    }
   ],
   "source": [
    "sns.barplot(x = values[1].index, y=values[1],hue = values[1], palette = \"vlag\",legend = False)\n",
    "ax.set_title('SibSp');"
   ]
  },
  {
   "cell_type": "code",
   "execution_count": 28,
   "id": "19548976",
   "metadata": {},
   "outputs": [
    {
     "data": {
      "image/png": "[encoded data removed]",
      "text/plain": [
       "<Figure size 640x480 with 1 Axes>"
      ]
     },
     "metadata": {},
     "output_type": "display_data"
    }
   ],
   "source": [
    "sns.barplot(x = values[2].index, y=values[2],hue = values[2], palette = \"vlag\",legend = False)\n",
    "ax.set_title('Parch');"
   ]
  },
  {
   "cell_type": "markdown",
   "id": "673d6176",
   "metadata": {},
   "source": [
    "# Feature Sex\n",
    "* no missing values"
   ]
  },
  {
   "cell_type": "code",
   "execution_count": 29,
   "id": "9ea62014",
   "metadata": {},
   "outputs": [
    {
     "data": {
      "image/png": "[encoded data removed]",
      "text/plain": [
       "<Figure size 640x480 with 1 Axes>"
      ]
     },
     "metadata": {},
     "output_type": "display_data"
    }
   ],
   "source": [
    "ax = sns.barplot(x = train_data['Sex'].value_counts().index, y=train_data['Sex'].value_counts().values)\n",
    "ax.set_title('Male Vs Female');"
   ]
  },
  {
   "cell_type": "code",
   "execution_count": 30,
   "id": "8a13ae16",
   "metadata": {},
   "outputs": [
    {
     "data": {
      "text/html": [
       "<div>\n",
       "<style scoped>\n",
       "    .dataframe tbody tr th:only-of-type {\n",
       "        vertical-align: middle;\n",
       "    }\n",
       "\n",
       "    .dataframe tbody tr th {\n",
       "        vertical-align: top;\n",
       "    }\n",
       "\n",
       "    .dataframe thead th {\n",
       "        text-align: right;\n",
       "    }\n",
       "</style>\n",
       "<table border=\"1\" class=\"dataframe\">\n",
       "  <thead>\n",
       "    <tr style=\"text-align: right;\">\n",
       "      <th></th>\n",
       "      <th>Sex</th>\n",
       "      <th>Survived</th>\n",
       "      <th>count</th>\n",
       "    </tr>\n",
       "  </thead>\n",
       "  <tbody>\n",
       "    <tr>\n",
       "      <th>0</th>\n",
       "      <td>female</td>\n",
       "      <td>1</td>\n",
       "      <td>233</td>\n",
       "    </tr>\n",
       "    <tr>\n",
       "      <th>1</th>\n",
       "      <td>female</td>\n",
       "      <td>0</td>\n",
       "      <td>81</td>\n",
       "    </tr>\n",
       "    <tr>\n",
       "      <th>2</th>\n",
       "      <td>male</td>\n",
       "      <td>0</td>\n",
       "      <td>468</td>\n",
       "    </tr>\n",
       "    <tr>\n",
       "      <th>3</th>\n",
       "      <td>male</td>\n",
       "      <td>1</td>\n",
       "      <td>109</td>\n",
       "    </tr>\n",
       "  </tbody>\n",
       "</table>\n",
       "</div>"
      ],
      "text/plain": [
       "      Sex  Survived  count\n",
       "0  female         1    233\n",
       "1  female         0     81\n",
       "2    male         0    468\n",
       "3    male         1    109"
      ]
     },
     "metadata": {},
     "output_type": "display_data"
    }
   ],
   "source": [
    "# Relation Sex & Survived ??\n",
    "df_sex_surv = pd.DataFrame(train_data.groupby('Sex')['Survived'].value_counts())\n",
    "df_sex_surv = df_sex_surv.reset_index()\n",
    "display(df_sex_surv)"
   ]
  },
  {
   "cell_type": "code",
   "execution_count": 31,
   "id": "dcc1dd9f",
   "metadata": {},
   "outputs": [
    {
     "data": {
      "image/png": "[encoded data removed]",
      "text/plain": [
       "<Figure size 640x480 with 2 Axes>"
      ]
     },
     "metadata": {},
     "output_type": "display_data"
    }
   ],
   "source": [
    "f,(ax1,ax2) = plt.subplots(2,1,sharex = True)\n",
    "sns.barplot(x=df_sex_surv[df_sex_surv['Sex']=='female']['Survived'], y = df_sex_surv[df_sex_surv['Sex']=='female']['count'],ax = ax1)\n",
    "ax1.set_title('female survived number')\n",
    "ax1.set_ylabel('')\n",
    "sns.barplot(x=df_sex_surv[df_sex_surv['Sex']=='male']['Survived'], y = df_sex_surv[df_sex_surv['Sex']=='male']['count'],ax = ax2)\n",
    "ax2.set_title('male survived number')\n",
    "ax2.set_ylabel('');"
   ]
  },
  {
   "cell_type": "markdown",
   "id": "aaa8bf86",
   "metadata": {},
   "source": [
    "# Survaived & Sex & Pclass"
   ]
  },
  {
   "cell_type": "code",
   "execution_count": 32,
   "id": "0ca130d6",
   "metadata": {},
   "outputs": [
    {
     "data": {
      "text/html": [
       "<div>\n",
       "<style scoped>\n",
       "    .dataframe tbody tr th:only-of-type {\n",
       "        vertical-align: middle;\n",
       "    }\n",
       "\n",
       "    .dataframe tbody tr th {\n",
       "        vertical-align: top;\n",
       "    }\n",
       "\n",
       "    .dataframe thead th {\n",
       "        text-align: right;\n",
       "    }\n",
       "</style>\n",
       "<table border=\"1\" class=\"dataframe\">\n",
       "  <thead>\n",
       "    <tr style=\"text-align: right;\">\n",
       "      <th></th>\n",
       "      <th>Survived</th>\n",
       "      <th>Pclass</th>\n",
       "      <th>Sex</th>\n",
       "      <th>count</th>\n",
       "    </tr>\n",
       "  </thead>\n",
       "  <tbody>\n",
       "    <tr>\n",
       "      <th>0</th>\n",
       "      <td>0</td>\n",
       "      <td>3</td>\n",
       "      <td>male</td>\n",
       "      <td>300</td>\n",
       "    </tr>\n",
       "    <tr>\n",
       "      <th>1</th>\n",
       "      <td>0</td>\n",
       "      <td>2</td>\n",
       "      <td>male</td>\n",
       "      <td>91</td>\n",
       "    </tr>\n",
       "    <tr>\n",
       "      <th>2</th>\n",
       "      <td>0</td>\n",
       "      <td>1</td>\n",
       "      <td>male</td>\n",
       "      <td>77</td>\n",
       "    </tr>\n",
       "    <tr>\n",
       "      <th>3</th>\n",
       "      <td>0</td>\n",
       "      <td>3</td>\n",
       "      <td>female</td>\n",
       "      <td>72</td>\n",
       "    </tr>\n",
       "    <tr>\n",
       "      <th>4</th>\n",
       "      <td>0</td>\n",
       "      <td>2</td>\n",
       "      <td>female</td>\n",
       "      <td>6</td>\n",
       "    </tr>\n",
       "    <tr>\n",
       "      <th>5</th>\n",
       "      <td>0</td>\n",
       "      <td>1</td>\n",
       "      <td>female</td>\n",
       "      <td>3</td>\n",
       "    </tr>\n",
       "    <tr>\n",
       "      <th>6</th>\n",
       "      <td>1</td>\n",
       "      <td>1</td>\n",
       "      <td>female</td>\n",
       "      <td>91</td>\n",
       "    </tr>\n",
       "    <tr>\n",
       "      <th>7</th>\n",
       "      <td>1</td>\n",
       "      <td>3</td>\n",
       "      <td>female</td>\n",
       "      <td>72</td>\n",
       "    </tr>\n",
       "    <tr>\n",
       "      <th>8</th>\n",
       "      <td>1</td>\n",
       "      <td>2</td>\n",
       "      <td>female</td>\n",
       "      <td>70</td>\n",
       "    </tr>\n",
       "    <tr>\n",
       "      <th>9</th>\n",
       "      <td>1</td>\n",
       "      <td>3</td>\n",
       "      <td>male</td>\n",
       "      <td>47</td>\n",
       "    </tr>\n",
       "    <tr>\n",
       "      <th>10</th>\n",
       "      <td>1</td>\n",
       "      <td>1</td>\n",
       "      <td>male</td>\n",
       "      <td>45</td>\n",
       "    </tr>\n",
       "    <tr>\n",
       "      <th>11</th>\n",
       "      <td>1</td>\n",
       "      <td>2</td>\n",
       "      <td>male</td>\n",
       "      <td>17</td>\n",
       "    </tr>\n",
       "  </tbody>\n",
       "</table>\n",
       "</div>"
      ],
      "text/plain": [
       "    Survived  Pclass     Sex  count\n",
       "0          0       3    male    300\n",
       "1          0       2    male     91\n",
       "2          0       1    male     77\n",
       "3          0       3  female     72\n",
       "4          0       2  female      6\n",
       "5          0       1  female      3\n",
       "6          1       1  female     91\n",
       "7          1       3  female     72\n",
       "8          1       2  female     70\n",
       "9          1       3    male     47\n",
       "10         1       1    male     45\n",
       "11         1       2    male     17"
      ]
     },
     "execution_count": 32,
     "metadata": {},
     "output_type": "execute_result"
    }
   ],
   "source": [
    "df_class = pd.DataFrame(train_data.groupby('Survived')[['Pclass','Sex']].value_counts())\n",
    "df_class.reset_index()"
   ]
  },
  {
   "cell_type": "markdown",
   "id": "25297288",
   "metadata": {},
   "source": [
    "# Feature Name, Ticket, Cabin and Embarked\n",
    "Not too much related to our model, just drop them"
   ]
  },
  {
   "cell_type": "markdown",
   "id": "bdb96588",
   "metadata": {},
   "source": [
    "# Feature selection "
   ]
  },
  {
   "cell_type": "code",
   "execution_count": 33,
   "id": "830674b7",
   "metadata": {},
   "outputs": [
    {
     "data": {
      "text/html": [
       "<div>\n",
       "<style scoped>\n",
       "    .dataframe tbody tr th:only-of-type {\n",
       "        vertical-align: middle;\n",
       "    }\n",
       "\n",
       "    .dataframe tbody tr th {\n",
       "        vertical-align: top;\n",
       "    }\n",
       "\n",
       "    .dataframe thead th {\n",
       "        text-align: right;\n",
       "    }\n",
       "</style>\n",
       "<table border=\"1\" class=\"dataframe\">\n",
       "  <thead>\n",
       "    <tr style=\"text-align: right;\">\n",
       "      <th></th>\n",
       "      <th>Survived</th>\n",
       "      <th>Pclass</th>\n",
       "      <th>Sex</th>\n",
       "      <th>Age</th>\n",
       "      <th>SibSp</th>\n",
       "      <th>Parch</th>\n",
       "    </tr>\n",
       "    <tr>\n",
       "      <th>PassengerId</th>\n",
       "      <th></th>\n",
       "      <th></th>\n",
       "      <th></th>\n",
       "      <th></th>\n",
       "      <th></th>\n",
       "      <th></th>\n",
       "    </tr>\n",
       "  </thead>\n",
       "  <tbody>\n",
       "    <tr>\n",
       "      <th>1</th>\n",
       "      <td>0</td>\n",
       "      <td>3</td>\n",
       "      <td>male</td>\n",
       "      <td>22.0</td>\n",
       "      <td>1</td>\n",
       "      <td>0</td>\n",
       "    </tr>\n",
       "    <tr>\n",
       "      <th>2</th>\n",
       "      <td>1</td>\n",
       "      <td>1</td>\n",
       "      <td>female</td>\n",
       "      <td>38.0</td>\n",
       "      <td>1</td>\n",
       "      <td>0</td>\n",
       "    </tr>\n",
       "    <tr>\n",
       "      <th>3</th>\n",
       "      <td>1</td>\n",
       "      <td>3</td>\n",
       "      <td>female</td>\n",
       "      <td>26.0</td>\n",
       "      <td>0</td>\n",
       "      <td>0</td>\n",
       "    </tr>\n",
       "  </tbody>\n",
       "</table>\n",
       "</div>"
      ],
      "text/plain": [
       "             Survived  Pclass     Sex   Age  SibSp  Parch\n",
       "PassengerId                                              \n",
       "1                   0       3    male  22.0      1      0\n",
       "2                   1       1  female  38.0      1      0\n",
       "3                   1       3  female  26.0      0      0"
      ]
     },
     "metadata": {},
     "output_type": "display_data"
    },
    {
     "data": {
      "text/html": [
       "<div>\n",
       "<style scoped>\n",
       "    .dataframe tbody tr th:only-of-type {\n",
       "        vertical-align: middle;\n",
       "    }\n",
       "\n",
       "    .dataframe tbody tr th {\n",
       "        vertical-align: top;\n",
       "    }\n",
       "\n",
       "    .dataframe thead th {\n",
       "        text-align: right;\n",
       "    }\n",
       "</style>\n",
       "<table border=\"1\" class=\"dataframe\">\n",
       "  <thead>\n",
       "    <tr style=\"text-align: right;\">\n",
       "      <th></th>\n",
       "      <th>Pclass</th>\n",
       "      <th>Sex</th>\n",
       "      <th>Age</th>\n",
       "      <th>SibSp</th>\n",
       "      <th>Parch</th>\n",
       "    </tr>\n",
       "    <tr>\n",
       "      <th>PassengerId</th>\n",
       "      <th></th>\n",
       "      <th></th>\n",
       "      <th></th>\n",
       "      <th></th>\n",
       "      <th></th>\n",
       "    </tr>\n",
       "  </thead>\n",
       "  <tbody>\n",
       "    <tr>\n",
       "      <th>892</th>\n",
       "      <td>3</td>\n",
       "      <td>male</td>\n",
       "      <td>34.5</td>\n",
       "      <td>0</td>\n",
       "      <td>0</td>\n",
       "    </tr>\n",
       "    <tr>\n",
       "      <th>893</th>\n",
       "      <td>3</td>\n",
       "      <td>female</td>\n",
       "      <td>47.0</td>\n",
       "      <td>1</td>\n",
       "      <td>0</td>\n",
       "    </tr>\n",
       "    <tr>\n",
       "      <th>894</th>\n",
       "      <td>2</td>\n",
       "      <td>male</td>\n",
       "      <td>62.0</td>\n",
       "      <td>0</td>\n",
       "      <td>0</td>\n",
       "    </tr>\n",
       "  </tbody>\n",
       "</table>\n",
       "</div>"
      ],
      "text/plain": [
       "             Pclass     Sex   Age  SibSp  Parch\n",
       "PassengerId                                    \n",
       "892               3    male  34.5      0      0\n",
       "893               3  female  47.0      1      0\n",
       "894               2    male  62.0      0      0"
      ]
     },
     "metadata": {},
     "output_type": "display_data"
    }
   ],
   "source": [
    "train_features = ['Survived','Pclass', 'Sex', 'Age', 'SibSp', 'Parch']\n",
    "test_features = train_features[1:]\n",
    "train = train_data[train_features]\n",
    "test = test_data[test_features]\n",
    "display(train.head(3))\n",
    "display(test.head(3))"
   ]
  },
  {
   "cell_type": "markdown",
   "id": "d195b438",
   "metadata": {},
   "source": [
    "# Models"
   ]
  },
  {
   "cell_type": "code",
   "execution_count": 37,
   "id": "9c8307df",
   "metadata": {},
   "outputs": [],
   "source": [
    "# Seperate Features and target ('Survived')\n",
    "target = train['Survived']\n",
    "train = train.drop('Survived', axis=1)"
   ]
  },
  {
   "cell_type": "markdown",
   "id": "ddca19c6",
   "metadata": {},
   "source": [
    "# 1st Model: Logistic regression classifier"
   ]
  },
  {
   "cell_type": "raw",
   "id": "e8c6dbb0",
   "metadata": {},
   "source": [
    "data requirement:\n",
    "    target: binary classifier (0 or 1)\n",
    "    train data: \n",
    "        No missing values\n",
    "        Only numerical data\n",
    "        Standardisation of input features [0,1] if not warning: coef_ did   not converge\n",
    "        "
   ]
  },
  {
   "cell_type": "raw",
   "id": "f37a279c",
   "metadata": {},
   "source": [
    "Data Preparation: \n",
    "    1st proposition: \n",
    "        change all data to 0 and 1\n",
    "    Results: But this data can not be converged by LR \n",
    "    2nd proposition: \n",
    "        Apply standarisation on train, test dataset\n",
    "    Results: Can be coverged "
   ]
  },
  {
   "cell_type": "markdown",
   "id": "9e8acb18",
   "metadata": {},
   "source": [
    "First proposition: to 0 and 1"
   ]
  },
  {
   "cell_type": "code",
   "execution_count": 38,
   "id": "94230482",
   "metadata": {},
   "outputs": [],
   "source": [
    "# copy dataset \n",
    "train_p1 = train\n",
    "test_p1 = test"
   ]
  },
  {
   "cell_type": "code",
   "execution_count": 39,
   "id": "1231675e",
   "metadata": {},
   "outputs": [],
   "source": [
    "# Features: Age, Sex, Pclass, SibSp, Parch\n",
    "# for both train and test dataset\n",
    "\n",
    "# Change Age to levels => dichotomizing discretizations\n",
    "age_level_train = pd.cut(train_p1['Age'], bins = age_bin, labels= age_labels)\n",
    "age_level_test = pd.cut(test_p1['Age'], bins = age_bin, labels= age_labels)\n",
    "train_p1 = train_p1.join(pd.get_dummies(age_level_train,prefix = \"Age_level\", dtype = int))\n",
    "test_p1 = test_p1.join(pd.get_dummies(age_level_test, prefix = \"Age_level\", dtype = int))\n",
    "\n",
    "# dichotomizing discretizations:Sex, Pclass, SibSp, Parch \n",
    "train_p1 = train_p1.join(pd.get_dummies(train_p1['Sex'],prefix = \"Sex\", dtype = int))\n",
    "train_p1 = train_p1.join(pd.get_dummies(train_p1['Pclass'],prefix = \"Pclass\", dtype = int))\n",
    "train_p1 = train_p1.join(pd.get_dummies(train_p1['SibSp'],prefix = \"SibSp\", dtype = int))\n",
    "train_p1 = train_p1.join(pd.get_dummies(train_p1['Parch'],prefix = \"Parch\", dtype = int))\n",
    "test_p1 = test_p1.join(pd.get_dummies(test_p1['Sex'],prefix = \"Sex\", dtype = int))\n",
    "test_p1 = test_p1.join(pd.get_dummies(test_p1['Pclass'],prefix = \"Pclass\", dtype = int))\n",
    "test_p1 = test_p1.join(pd.get_dummies(test_p1['SibSp'],prefix = \"SibSp\", dtype = int))\n",
    "test_p1 = test_p1.join(pd.get_dummies(test_p1['Parch'],prefix = \"Parch\", dtype = int))"
   ]
  },
  {
   "cell_type": "code",
   "execution_count": 40,
   "id": "0f8741c2",
   "metadata": {},
   "outputs": [],
   "source": [
    "# drop Age, Sex, Pclass, SibSp, Parch\n",
    "train_p1.drop(['Sex','Age', 'Pclass', 'SibSp','Parch'], axis = 1, inplace = True)\n",
    "test_p1.drop(['Sex','Age', 'Pclass', 'SibSp','Parch'],axis = 1, inplace = True)"
   ]
  },
  {
   "cell_type": "code",
   "execution_count": 41,
   "id": "474c3225",
   "metadata": {},
   "outputs": [
    {
     "data": {
      "text/html": [
       "<div>\n",
       "<style scoped>\n",
       "    .dataframe tbody tr th:only-of-type {\n",
       "        vertical-align: middle;\n",
       "    }\n",
       "\n",
       "    .dataframe tbody tr th {\n",
       "        vertical-align: top;\n",
       "    }\n",
       "\n",
       "    .dataframe thead th {\n",
       "        text-align: right;\n",
       "    }\n",
       "</style>\n",
       "<table border=\"1\" class=\"dataframe\">\n",
       "  <thead>\n",
       "    <tr style=\"text-align: right;\">\n",
       "      <th></th>\n",
       "      <th>Age_level_teenager</th>\n",
       "      <th>Age_level_adult</th>\n",
       "      <th>Age_level_adult+</th>\n",
       "      <th>Age_level_aged</th>\n",
       "      <th>Sex_female</th>\n",
       "      <th>Sex_male</th>\n",
       "      <th>Pclass_1</th>\n",
       "      <th>Pclass_2</th>\n",
       "      <th>Pclass_3</th>\n",
       "      <th>SibSp_0</th>\n",
       "      <th>...</th>\n",
       "      <th>SibSp_5</th>\n",
       "      <th>SibSp_8</th>\n",
       "      <th>Parch_0</th>\n",
       "      <th>Parch_1</th>\n",
       "      <th>Parch_2</th>\n",
       "      <th>Parch_3</th>\n",
       "      <th>Parch_4</th>\n",
       "      <th>Parch_5</th>\n",
       "      <th>Parch_6</th>\n",
       "      <th>Parch_9</th>\n",
       "    </tr>\n",
       "    <tr>\n",
       "      <th>PassengerId</th>\n",
       "      <th></th>\n",
       "      <th></th>\n",
       "      <th></th>\n",
       "      <th></th>\n",
       "      <th></th>\n",
       "      <th></th>\n",
       "      <th></th>\n",
       "      <th></th>\n",
       "      <th></th>\n",
       "      <th></th>\n",
       "      <th></th>\n",
       "      <th></th>\n",
       "      <th></th>\n",
       "      <th></th>\n",
       "      <th></th>\n",
       "      <th></th>\n",
       "      <th></th>\n",
       "      <th></th>\n",
       "      <th></th>\n",
       "      <th></th>\n",
       "      <th></th>\n",
       "    </tr>\n",
       "  </thead>\n",
       "  <tbody>\n",
       "    <tr>\n",
       "      <th>1</th>\n",
       "      <td>0</td>\n",
       "      <td>1</td>\n",
       "      <td>0</td>\n",
       "      <td>0</td>\n",
       "      <td>0</td>\n",
       "      <td>1</td>\n",
       "      <td>0</td>\n",
       "      <td>0</td>\n",
       "      <td>1</td>\n",
       "      <td>0</td>\n",
       "      <td>...</td>\n",
       "      <td>0</td>\n",
       "      <td>0</td>\n",
       "      <td>1</td>\n",
       "      <td>0</td>\n",
       "      <td>0</td>\n",
       "      <td>0</td>\n",
       "      <td>0</td>\n",
       "      <td>0</td>\n",
       "      <td>0</td>\n",
       "      <td>0</td>\n",
       "    </tr>\n",
       "    <tr>\n",
       "      <th>2</th>\n",
       "      <td>0</td>\n",
       "      <td>0</td>\n",
       "      <td>1</td>\n",
       "      <td>0</td>\n",
       "      <td>1</td>\n",
       "      <td>0</td>\n",
       "      <td>1</td>\n",
       "      <td>0</td>\n",
       "      <td>0</td>\n",
       "      <td>0</td>\n",
       "      <td>...</td>\n",
       "      <td>0</td>\n",
       "      <td>0</td>\n",
       "      <td>1</td>\n",
       "      <td>0</td>\n",
       "      <td>0</td>\n",
       "      <td>0</td>\n",
       "      <td>0</td>\n",
       "      <td>0</td>\n",
       "      <td>0</td>\n",
       "      <td>0</td>\n",
       "    </tr>\n",
       "    <tr>\n",
       "      <th>3</th>\n",
       "      <td>0</td>\n",
       "      <td>1</td>\n",
       "      <td>0</td>\n",
       "      <td>0</td>\n",
       "      <td>1</td>\n",
       "      <td>0</td>\n",
       "      <td>0</td>\n",
       "      <td>0</td>\n",
       "      <td>1</td>\n",
       "      <td>1</td>\n",
       "      <td>...</td>\n",
       "      <td>0</td>\n",
       "      <td>0</td>\n",
       "      <td>1</td>\n",
       "      <td>0</td>\n",
       "      <td>0</td>\n",
       "      <td>0</td>\n",
       "      <td>0</td>\n",
       "      <td>0</td>\n",
       "      <td>0</td>\n",
       "      <td>0</td>\n",
       "    </tr>\n",
       "    <tr>\n",
       "      <th>4</th>\n",
       "      <td>0</td>\n",
       "      <td>0</td>\n",
       "      <td>1</td>\n",
       "      <td>0</td>\n",
       "      <td>1</td>\n",
       "      <td>0</td>\n",
       "      <td>1</td>\n",
       "      <td>0</td>\n",
       "      <td>0</td>\n",
       "      <td>0</td>\n",
       "      <td>...</td>\n",
       "      <td>0</td>\n",
       "      <td>0</td>\n",
       "      <td>1</td>\n",
       "      <td>0</td>\n",
       "      <td>0</td>\n",
       "      <td>0</td>\n",
       "      <td>0</td>\n",
       "      <td>0</td>\n",
       "      <td>0</td>\n",
       "      <td>0</td>\n",
       "    </tr>\n",
       "    <tr>\n",
       "      <th>5</th>\n",
       "      <td>0</td>\n",
       "      <td>0</td>\n",
       "      <td>1</td>\n",
       "      <td>0</td>\n",
       "      <td>0</td>\n",
       "      <td>1</td>\n",
       "      <td>0</td>\n",
       "      <td>0</td>\n",
       "      <td>1</td>\n",
       "      <td>1</td>\n",
       "      <td>...</td>\n",
       "      <td>0</td>\n",
       "      <td>0</td>\n",
       "      <td>1</td>\n",
       "      <td>0</td>\n",
       "      <td>0</td>\n",
       "      <td>0</td>\n",
       "      <td>0</td>\n",
       "      <td>0</td>\n",
       "      <td>0</td>\n",
       "      <td>0</td>\n",
       "    </tr>\n",
       "  </tbody>\n",
       "</table>\n",
       "<p>5 rows × 24 columns</p>\n",
       "</div>"
      ],
      "text/plain": [
       "             Age_level_teenager  Age_level_adult  Age_level_adult+  \\\n",
       "PassengerId                                                          \n",
       "1                             0                1                 0   \n",
       "2                             0                0                 1   \n",
       "3                             0                1                 0   \n",
       "4                             0                0                 1   \n",
       "5                             0                0                 1   \n",
       "\n",
       "             Age_level_aged  Sex_female  Sex_male  Pclass_1  Pclass_2  \\\n",
       "PassengerId                                                             \n",
       "1                         0           0         1         0         0   \n",
       "2                         0           1         0         1         0   \n",
       "3                         0           1         0         0         0   \n",
       "4                         0           1         0         1         0   \n",
       "5                         0           0         1         0         0   \n",
       "\n",
       "             Pclass_3  SibSp_0  ...  SibSp_5  SibSp_8  Parch_0  Parch_1  \\\n",
       "PassengerId                     ...                                       \n",
       "1                   1        0  ...        0        0        1        0   \n",
       "2                   0        0  ...        0        0        1        0   \n",
       "3                   1        1  ...        0        0        1        0   \n",
       "4                   0        0  ...        0        0        1        0   \n",
       "5                   1        1  ...        0        0        1        0   \n",
       "\n",
       "             Parch_2  Parch_3  Parch_4  Parch_5  Parch_6  Parch_9  \n",
       "PassengerId                                                        \n",
       "1                  0        0        0        0        0        0  \n",
       "2                  0        0        0        0        0        0  \n",
       "3                  0        0        0        0        0        0  \n",
       "4                  0        0        0        0        0        0  \n",
       "5                  0        0        0        0        0        0  \n",
       "\n",
       "[5 rows x 24 columns]"
      ]
     },
     "execution_count": 41,
     "metadata": {},
     "output_type": "execute_result"
    }
   ],
   "source": [
    "# add Parch_9 to train_p1 set cause there is Parch=9 at test set\n",
    "train_p1['Parch_9'] = 0\n",
    "train_p1.head()"
   ]
  },
  {
   "cell_type": "raw",
   "id": "d26c7074",
   "metadata": {},
   "source": [
    "Even we have a test dataset, but there is no Survived in the test set \n",
    "\n",
    "So we still need to seperate the train-test set in our train-target dataset "
   ]
  },
  {
   "cell_type": "code",
   "execution_count": 42,
   "id": "cfbd3dff",
   "metadata": {},
   "outputs": [],
   "source": [
    "from sklearn.model_selection import train_test_split\n",
    "X_train, X_test, y_train, y_test = train_test_split(train_p1, target, \n",
    "                                                    random_state=20, \n",
    "                                                   test_size=0.2)"
   ]
  },
  {
   "cell_type": "markdown",
   "id": "50e4d824",
   "metadata": {},
   "source": [
    "Building model: "
   ]
  },
  {
   "cell_type": "code",
   "execution_count": 43,
   "id": "82d4aab3",
   "metadata": {},
   "outputs": [
    {
     "name": "stderr",
     "output_type": "stream",
     "text": [
      "D:\\Aconda\\envs\\py11\\Lib\\site-packages\\sklearn\\linear_model\\_sag.py:350: ConvergenceWarning: The max_iter was reached which means the coef_ did not converge\n",
      "  warnings.warn(\n",
      "D:\\Aconda\\envs\\py11\\Lib\\site-packages\\sklearn\\linear_model\\_sag.py:350: ConvergenceWarning: The max_iter was reached which means the coef_ did not converge\n",
      "  warnings.warn(\n",
      "D:\\Aconda\\envs\\py11\\Lib\\site-packages\\sklearn\\linear_model\\_sag.py:350: ConvergenceWarning: The max_iter was reached which means the coef_ did not converge\n",
      "  warnings.warn(\n"
     ]
    },
    {
     "name": "stdout",
     "output_type": "stream",
     "text": [
      "{'C': 10, 'solver': 'lbfgs'}\n"
     ]
    }
   ],
   "source": [
    "from sklearn.linear_model import LogisticRegressionCV,LogisticRegression\n",
    "from sklearn.model_selection import GridSearchCV\n",
    "\n",
    "params_lr = {'C': [0.001,0.01,0.1,1,10], 'solver': ['lbfgs','newton-cg','sag']}\n",
    "clf_lr = LogisticRegression()\n",
    "grid_lr = GridSearchCV(estimator=clf_lr, param_grid=params_lr, cv = 3)\n",
    "grid_lr.fit(X_train, y_train)\n",
    "print(grid_lr.best_params_)"
   ]
  },
  {
   "cell_type": "code",
   "execution_count": 44,
   "id": "0307c2e0",
   "metadata": {},
   "outputs": [
    {
     "name": "stdout",
     "output_type": "stream",
     "text": [
      "              precision    recall  f1-score   support\n",
      "\n",
      "           0       0.85      0.93      0.89       112\n",
      "           1       0.86      0.72      0.78        67\n",
      "\n",
      "    accuracy                           0.85       179\n",
      "   macro avg       0.85      0.82      0.83       179\n",
      "weighted avg       0.85      0.85      0.85       179\n",
      "\n"
     ]
    },
    {
     "data": {
      "text/html": [
       "<div>\n",
       "<style scoped>\n",
       "    .dataframe tbody tr th:only-of-type {\n",
       "        vertical-align: middle;\n",
       "    }\n",
       "\n",
       "    .dataframe tbody tr th {\n",
       "        vertical-align: top;\n",
       "    }\n",
       "\n",
       "    .dataframe thead th {\n",
       "        text-align: right;\n",
       "    }\n",
       "</style>\n",
       "<table border=\"1\" class=\"dataframe\">\n",
       "  <thead>\n",
       "    <tr style=\"text-align: right;\">\n",
       "      <th>predict</th>\n",
       "      <th>0</th>\n",
       "      <th>1</th>\n",
       "    </tr>\n",
       "    <tr>\n",
       "      <th>real</th>\n",
       "      <th></th>\n",
       "      <th></th>\n",
       "    </tr>\n",
       "  </thead>\n",
       "  <tbody>\n",
       "    <tr>\n",
       "      <th>0</th>\n",
       "      <td>104</td>\n",
       "      <td>8</td>\n",
       "    </tr>\n",
       "    <tr>\n",
       "      <th>1</th>\n",
       "      <td>19</td>\n",
       "      <td>48</td>\n",
       "    </tr>\n",
       "  </tbody>\n",
       "</table>\n",
       "</div>"
      ],
      "text/plain": [
       "predict    0   1\n",
       "real            \n",
       "0        104   8\n",
       "1         19  48"
      ]
     },
     "execution_count": 44,
     "metadata": {},
     "output_type": "execute_result"
    }
   ],
   "source": [
    "# use the best estimator do predict and check model performance \n",
    "pred_lr = grid_lr.best_estimator_.predict(X_test)\n",
    "from sklearn.metrics import classification_report\n",
    "print(classification_report(y_test, pred_lr))\n",
    "pd.crosstab(y_test, pred_lr, rownames=['real'], colnames =  ['predict'])"
   ]
  },
  {
   "cell_type": "raw",
   "id": "9fce2cc4",
   "metadata": {},
   "source": [
    "even coef_ did not converge, the f1 score seems ok \n",
    "check with LogisticRegressionCV"
   ]
  },
  {
   "cell_type": "code",
   "execution_count": 45,
   "id": "00b594d6",
   "metadata": {},
   "outputs": [
    {
     "name": "stderr",
     "output_type": "stream",
     "text": [
      "D:\\Aconda\\envs\\py11\\Lib\\site-packages\\sklearn\\linear_model\\_logistic.py:460: ConvergenceWarning: lbfgs failed to converge (status=1):\n",
      "STOP: TOTAL NO. of ITERATIONS REACHED LIMIT.\n",
      "\n",
      "Increase the number of iterations (max_iter) or scale the data as shown in:\n",
      "    https://scikit-learn.org/stable/modules/preprocessing.html\n",
      "Please also refer to the documentation for alternative solver options:\n",
      "    https://scikit-learn.org/stable/modules/linear_model.html#logistic-regression\n",
      "  n_iter_i = _check_optimize_result(\n",
      "D:\\Aconda\\envs\\py11\\Lib\\site-packages\\sklearn\\linear_model\\_logistic.py:460: ConvergenceWarning: lbfgs failed to converge (status=1):\n",
      "STOP: TOTAL NO. of ITERATIONS REACHED LIMIT.\n",
      "\n",
      "Increase the number of iterations (max_iter) or scale the data as shown in:\n",
      "    https://scikit-learn.org/stable/modules/preprocessing.html\n",
      "Please also refer to the documentation for alternative solver options:\n",
      "    https://scikit-learn.org/stable/modules/linear_model.html#logistic-regression\n",
      "  n_iter_i = _check_optimize_result(\n"
     ]
    },
    {
     "name": "stdout",
     "output_type": "stream",
     "text": [
      "              precision    recall  f1-score   support\n",
      "\n",
      "           0       0.85      0.93      0.89       112\n",
      "           1       0.86      0.72      0.78        67\n",
      "\n",
      "    accuracy                           0.85       179\n",
      "   macro avg       0.85      0.82      0.83       179\n",
      "weighted avg       0.85      0.85      0.85       179\n",
      "\n"
     ]
    },
    {
     "data": {
      "text/html": [
       "<div>\n",
       "<style scoped>\n",
       "    .dataframe tbody tr th:only-of-type {\n",
       "        vertical-align: middle;\n",
       "    }\n",
       "\n",
       "    .dataframe tbody tr th {\n",
       "        vertical-align: top;\n",
       "    }\n",
       "\n",
       "    .dataframe thead th {\n",
       "        text-align: right;\n",
       "    }\n",
       "</style>\n",
       "<table border=\"1\" class=\"dataframe\">\n",
       "  <thead>\n",
       "    <tr style=\"text-align: right;\">\n",
       "      <th>predict</th>\n",
       "      <th>0</th>\n",
       "      <th>1</th>\n",
       "    </tr>\n",
       "    <tr>\n",
       "      <th>real</th>\n",
       "      <th></th>\n",
       "      <th></th>\n",
       "    </tr>\n",
       "  </thead>\n",
       "  <tbody>\n",
       "    <tr>\n",
       "      <th>0</th>\n",
       "      <td>104</td>\n",
       "      <td>8</td>\n",
       "    </tr>\n",
       "    <tr>\n",
       "      <th>1</th>\n",
       "      <td>19</td>\n",
       "      <td>48</td>\n",
       "    </tr>\n",
       "  </tbody>\n",
       "</table>\n",
       "</div>"
      ],
      "text/plain": [
       "predict    0   1\n",
       "real            \n",
       "0        104   8\n",
       "1         19  48"
      ]
     },
     "execution_count": 45,
     "metadata": {},
     "output_type": "execute_result"
    }
   ],
   "source": [
    "clf_lrcv = LogisticRegressionCV()\n",
    "clf_lrcv.fit(X_train, y_train)\n",
    "pred_lrcv = clf_lrcv.predict(X_test)\n",
    "print(classification_report(y_test, pred_lrcv))\n",
    "pd.crosstab(y_test, pred_lrcv, rownames=['real'], colnames =  ['predict'])"
   ]
  },
  {
   "cell_type": "code",
   "execution_count": 46,
   "id": "d7ab2926",
   "metadata": {},
   "outputs": [
    {
     "data": {
      "text/html": [
       "<div>\n",
       "<style scoped>\n",
       "    .dataframe tbody tr th:only-of-type {\n",
       "        vertical-align: middle;\n",
       "    }\n",
       "\n",
       "    .dataframe tbody tr th {\n",
       "        vertical-align: top;\n",
       "    }\n",
       "\n",
       "    .dataframe thead th {\n",
       "        text-align: right;\n",
       "    }\n",
       "</style>\n",
       "<table border=\"1\" class=\"dataframe\">\n",
       "  <thead>\n",
       "    <tr style=\"text-align: right;\">\n",
       "      <th></th>\n",
       "      <th>lr_10_lbfgs</th>\n",
       "    </tr>\n",
       "    <tr>\n",
       "      <th>PassengerId</th>\n",
       "      <th></th>\n",
       "    </tr>\n",
       "  </thead>\n",
       "  <tbody>\n",
       "    <tr>\n",
       "      <th>892</th>\n",
       "      <td>0</td>\n",
       "    </tr>\n",
       "    <tr>\n",
       "      <th>893</th>\n",
       "      <td>1</td>\n",
       "    </tr>\n",
       "    <tr>\n",
       "      <th>894</th>\n",
       "      <td>0</td>\n",
       "    </tr>\n",
       "    <tr>\n",
       "      <th>895</th>\n",
       "      <td>0</td>\n",
       "    </tr>\n",
       "    <tr>\n",
       "      <th>896</th>\n",
       "      <td>1</td>\n",
       "    </tr>\n",
       "  </tbody>\n",
       "</table>\n",
       "</div>"
      ],
      "text/plain": [
       "             lr_10_lbfgs\n",
       "PassengerId             \n",
       "892                    0\n",
       "893                    1\n",
       "894                    0\n",
       "895                    0\n",
       "896                    1"
      ]
     },
     "execution_count": 46,
     "metadata": {},
     "output_type": "execute_result"
    }
   ],
   "source": [
    "# try to do some real prediction\n",
    "pred_test_set = grid_lr.best_estimator_.predict(test_p1)\n",
    "df_results = pd.DataFrame(pred_test_set,index = test_p1.index,columns = ['lr_10_lbfgs'])\n",
    "df_results.head()"
   ]
  },
  {
   "cell_type": "code",
   "execution_count": 48,
   "id": "21dd6ee2",
   "metadata": {},
   "outputs": [],
   "source": [
    "def evaluation_performance(test_data, model_predictions):\n",
    "    '''\n",
    "    :test_data: model test-target data like y_test\n",
    "    :model_predictions: prediction results from model \n",
    "    :return: dictionary of a set of evaluation metrics\n",
    "             'Cross_Table','Classification_Report'\n",
    "    '''\n",
    "    from sklearn.metrics import classification_report\n",
    "    import pandas as pd\n",
    "    dic_eval_perf = {}\n",
    "    df_ct = pd.crosstab(test_data,model_predictions, \n",
    "                        rownames = ['real'],\n",
    "                       colnames = ['predict'])\n",
    "    dic_eval_perf['Cross_Table'] = df_ct\n",
    "    dic_eval_perf['Classification_Report'] = classification_report(test_data, model_predictions)\n",
    "    return dic_eval_perf\n",
    "\n",
    "def prediction_save_csv(results,filepath):\n",
    "    from pathlib import Path \n",
    "    filepath.parent.mkdir(parents=True, exist_ok=True)  \n",
    "    results.to_csv(filepath) \n",
    "    \n",
    "def save_model_joblib(model, filepath):\n",
    "    from joblib import dump\n",
    "    \n",
    "    from pathlib import Path\n",
    "    filepath.parent.mkdir(parents = True, exist_ok = True)\n",
    "    dump(model, filepath)\n",
    "def save_model_pickle(model, filepath):\n",
    "    \n",
    "    import pickle\n",
    "    from pathlib import Path\n",
    "    filepath.parent.mkdir(parents = True, exist_ok = True)\n",
    "    with open(filepath, 'wb') as file: \n",
    "        pickle.dump(model, file)"
   ]
  },
  {
   "cell_type": "code",
   "execution_count": 50,
   "id": "c737d93c",
   "metadata": {},
   "outputs": [
    {
     "data": {
      "text/html": [
       "<div>\n",
       "<style scoped>\n",
       "    .dataframe tbody tr th:only-of-type {\n",
       "        vertical-align: middle;\n",
       "    }\n",
       "\n",
       "    .dataframe tbody tr th {\n",
       "        vertical-align: top;\n",
       "    }\n",
       "\n",
       "    .dataframe thead th {\n",
       "        text-align: right;\n",
       "    }\n",
       "</style>\n",
       "<table border=\"1\" class=\"dataframe\">\n",
       "  <thead>\n",
       "    <tr style=\"text-align: right;\">\n",
       "      <th>predict</th>\n",
       "      <th>0</th>\n",
       "      <th>1</th>\n",
       "    </tr>\n",
       "    <tr>\n",
       "      <th>real</th>\n",
       "      <th></th>\n",
       "      <th></th>\n",
       "    </tr>\n",
       "  </thead>\n",
       "  <tbody>\n",
       "    <tr>\n",
       "      <th>0</th>\n",
       "      <td>261</td>\n",
       "      <td>5</td>\n",
       "    </tr>\n",
       "    <tr>\n",
       "      <th>1</th>\n",
       "      <td>6</td>\n",
       "      <td>146</td>\n",
       "    </tr>\n",
       "  </tbody>\n",
       "</table>\n",
       "</div>"
      ],
      "text/plain": [
       "predict    0    1\n",
       "real             \n",
       "0        261    5\n",
       "1          6  146"
      ]
     },
     "metadata": {},
     "output_type": "display_data"
    },
    {
     "name": "stdout",
     "output_type": "stream",
     "text": [
      "              precision    recall  f1-score   support\n",
      "\n",
      "           0       0.98      0.98      0.98       266\n",
      "           1       0.97      0.96      0.96       152\n",
      "\n",
      "    accuracy                           0.97       418\n",
      "   macro avg       0.97      0.97      0.97       418\n",
      "weighted avg       0.97      0.97      0.97       418\n",
      "\n"
     ]
    }
   ],
   "source": [
    "# testset performance evaluation\n",
    "dic_lr = evaluation_performance(test_result.iloc[:,0].to_numpy(),df_results['lr_10_lbfgs'].to_numpy())\n",
    "display(dic_lr['Cross_Table'])\n",
    "print(dic_lr['Classification_Report'])"
   ]
  },
  {
   "cell_type": "code",
   "execution_count": 51,
   "id": "9d62a440",
   "metadata": {},
   "outputs": [],
   "source": [
    "# save prediction results\n",
    "from pathlib import Path  \n",
    "filepath = Path('D:/Self_Train/Step2_Project/Titanic/results.csv')  \n",
    "filepath.parent.mkdir(parents=True, exist_ok=True)  \n",
    "df_results.to_csv(filepath) \n"
   ]
  },
  {
   "cell_type": "code",
   "execution_count": 52,
   "id": "7e8440f2",
   "metadata": {},
   "outputs": [],
   "source": [
    "# save first LR model \n",
    "from joblib import dump\n",
    "import pickle\n",
    "filepath_model = Path('D:/Self_Train/Step2_Project/Titanic/models/lr_10_lbfgs.joblib')  \n",
    "filepath_model.parent.mkdir(parents=True, exist_ok=True)\n",
    "dump(grid_lr.best_estimator_,filepath_model)\n",
    "import pickle\n",
    "filepath_model2 = Path('D:/Self_Train/Step2_Project/Titanic/models/lr_10_lbfgs.pkl')\n",
    "filepath_model2.parent.mkdir(parents=True, exist_ok=True)\n",
    "with open(filepath_model2,'wb') as file: \n",
    "    pickle.dump(grid_lr.best_estimator_, file)"
   ]
  },
  {
   "cell_type": "code",
   "execution_count": null,
   "id": "6b89825a",
   "metadata": {},
   "outputs": [],
   "source": [
    "# reuse the model\n",
    "from joblib import load\n",
    "clf_load = load(filepath_model)\n",
    "tt = clf.predict(test_p1)\n"
   ]
  },
  {
   "cell_type": "raw",
   "id": "eda53e7b",
   "metadata": {},
   "source": [
    "2nd proposition\n",
    "    Standard Data to [0,1]"
   ]
  },
  {
   "cell_type": "code",
   "execution_count": 53,
   "id": "0bab3b5c",
   "metadata": {},
   "outputs": [
    {
     "data": {
      "text/html": [
       "<div>\n",
       "<style scoped>\n",
       "    .dataframe tbody tr th:only-of-type {\n",
       "        vertical-align: middle;\n",
       "    }\n",
       "\n",
       "    .dataframe tbody tr th {\n",
       "        vertical-align: top;\n",
       "    }\n",
       "\n",
       "    .dataframe thead th {\n",
       "        text-align: right;\n",
       "    }\n",
       "</style>\n",
       "<table border=\"1\" class=\"dataframe\">\n",
       "  <thead>\n",
       "    <tr style=\"text-align: right;\">\n",
       "      <th></th>\n",
       "      <th>Pclass</th>\n",
       "      <th>Age</th>\n",
       "      <th>SibSp</th>\n",
       "      <th>Parch</th>\n",
       "      <th>Sex_female</th>\n",
       "      <th>Sex_male</th>\n",
       "    </tr>\n",
       "    <tr>\n",
       "      <th>PassengerId</th>\n",
       "      <th></th>\n",
       "      <th></th>\n",
       "      <th></th>\n",
       "      <th></th>\n",
       "      <th></th>\n",
       "      <th></th>\n",
       "    </tr>\n",
       "  </thead>\n",
       "  <tbody>\n",
       "    <tr>\n",
       "      <th>1</th>\n",
       "      <td>3</td>\n",
       "      <td>22.0</td>\n",
       "      <td>1</td>\n",
       "      <td>0</td>\n",
       "      <td>0</td>\n",
       "      <td>1</td>\n",
       "    </tr>\n",
       "    <tr>\n",
       "      <th>2</th>\n",
       "      <td>1</td>\n",
       "      <td>38.0</td>\n",
       "      <td>1</td>\n",
       "      <td>0</td>\n",
       "      <td>1</td>\n",
       "      <td>0</td>\n",
       "    </tr>\n",
       "    <tr>\n",
       "      <th>3</th>\n",
       "      <td>3</td>\n",
       "      <td>26.0</td>\n",
       "      <td>0</td>\n",
       "      <td>0</td>\n",
       "      <td>1</td>\n",
       "      <td>0</td>\n",
       "    </tr>\n",
       "  </tbody>\n",
       "</table>\n",
       "</div>"
      ],
      "text/plain": [
       "             Pclass   Age  SibSp  Parch  Sex_female  Sex_male\n",
       "PassengerId                                                  \n",
       "1                 3  22.0      1      0           0         1\n",
       "2                 1  38.0      1      0           1         0\n",
       "3                 3  26.0      0      0           1         0"
      ]
     },
     "execution_count": 53,
     "metadata": {},
     "output_type": "execute_result"
    }
   ],
   "source": [
    "train_p2 = train\n",
    "test_p2 = test\n",
    "# change male female to 0 and 1\n",
    "train_p2 = train_p2.join(pd.get_dummies(train_p2['Sex'], prefix='Sex',dtype = int))\n",
    "test_p2 = test_p2.join(pd.get_dummies(test_p2['Sex'], prefix='Sex',dtype = int))\n",
    "train_p2.drop('Sex', axis = 1, inplace = True)\n",
    "test_p2.drop('Sex',axis = 1, inplace = True)\n",
    "train_p2.head(3)"
   ]
  },
  {
   "cell_type": "code",
   "execution_count": 54,
   "id": "55a5520b",
   "metadata": {},
   "outputs": [],
   "source": [
    "from sklearn import preprocessing \n",
    "scaler_lr= preprocessing.StandardScaler().fit(train_p2)\n",
    "train_scaler = scaler_lr.transform(train_p2)\n",
    "test_scaler = scaler_lr.transform(test_p2)\n",
    "\n",
    "from sklearn.model_selection import train_test_split\n",
    "X_train, X_test, y_train, y_test = train_test_split(train_scaler,target, \n",
    "                                                   test_size=0.2, \n",
    "                                                   random_state=20)"
   ]
  },
  {
   "cell_type": "code",
   "execution_count": 55,
   "id": "05d6d3c3",
   "metadata": {},
   "outputs": [
    {
     "name": "stdout",
     "output_type": "stream",
     "text": [
      "{'C': 0.1, 'solver': 'lbfgs'}\n"
     ]
    }
   ],
   "source": [
    "params_lr = {'C': [0.001,0.01,0.1,1,10], 'solver': ['lbfgs','newton-cg','sag']}\n",
    "clf_lr = LogisticRegression()\n",
    "grid_lr = GridSearchCV(estimator=clf_lr, param_grid=params_lr, cv =3)\n",
    "grid_lr.fit(X_train,y_train)\n",
    "print(grid_lr.best_params_)"
   ]
  },
  {
   "cell_type": "raw",
   "id": "3ff837e4",
   "metadata": {},
   "source": [
    "Performance evaluation"
   ]
  },
  {
   "cell_type": "code",
   "execution_count": 56,
   "id": "c8af12f2",
   "metadata": {},
   "outputs": [
    {
     "name": "stdout",
     "output_type": "stream",
     "text": [
      "              precision    recall  f1-score   support\n",
      "\n",
      "           0       0.84      0.92      0.88       112\n",
      "           1       0.84      0.70      0.76        67\n",
      "\n",
      "    accuracy                           0.84       179\n",
      "   macro avg       0.84      0.81      0.82       179\n",
      "weighted avg       0.84      0.84      0.83       179\n",
      "\n"
     ]
    },
    {
     "data": {
      "text/html": [
       "<div>\n",
       "<style scoped>\n",
       "    .dataframe tbody tr th:only-of-type {\n",
       "        vertical-align: middle;\n",
       "    }\n",
       "\n",
       "    .dataframe tbody tr th {\n",
       "        vertical-align: top;\n",
       "    }\n",
       "\n",
       "    .dataframe thead th {\n",
       "        text-align: right;\n",
       "    }\n",
       "</style>\n",
       "<table border=\"1\" class=\"dataframe\">\n",
       "  <thead>\n",
       "    <tr style=\"text-align: right;\">\n",
       "      <th>predict</th>\n",
       "      <th>0</th>\n",
       "      <th>1</th>\n",
       "    </tr>\n",
       "    <tr>\n",
       "      <th>real</th>\n",
       "      <th></th>\n",
       "      <th></th>\n",
       "    </tr>\n",
       "  </thead>\n",
       "  <tbody>\n",
       "    <tr>\n",
       "      <th>0</th>\n",
       "      <td>103</td>\n",
       "      <td>9</td>\n",
       "    </tr>\n",
       "    <tr>\n",
       "      <th>1</th>\n",
       "      <td>20</td>\n",
       "      <td>47</td>\n",
       "    </tr>\n",
       "  </tbody>\n",
       "</table>\n",
       "</div>"
      ],
      "text/plain": [
       "predict    0   1\n",
       "real            \n",
       "0        103   9\n",
       "1         20  47"
      ]
     },
     "execution_count": 56,
     "metadata": {},
     "output_type": "execute_result"
    }
   ],
   "source": [
    "# use the best estimator do predict and check model performance \n",
    "pred_lr = grid_lr.best_estimator_.predict(X_test)\n",
    "from sklearn.metrics import classification_report\n",
    "print(classification_report(y_test, pred_lr))\n",
    "pd.crosstab(y_test, pred_lr, rownames=['real'], colnames =  ['predict'])"
   ]
  },
  {
   "cell_type": "code",
   "execution_count": 57,
   "id": "4f4a19b0",
   "metadata": {},
   "outputs": [
    {
     "name": "stdout",
     "output_type": "stream",
     "text": [
      "              precision    recall  f1-score   support\n",
      "\n",
      "           0       0.83      0.92      0.87       112\n",
      "           1       0.84      0.69      0.75        67\n",
      "\n",
      "    accuracy                           0.83       179\n",
      "   macro avg       0.83      0.80      0.81       179\n",
      "weighted avg       0.83      0.83      0.83       179\n",
      "\n"
     ]
    },
    {
     "data": {
      "text/html": [
       "<div>\n",
       "<style scoped>\n",
       "    .dataframe tbody tr th:only-of-type {\n",
       "        vertical-align: middle;\n",
       "    }\n",
       "\n",
       "    .dataframe tbody tr th {\n",
       "        vertical-align: top;\n",
       "    }\n",
       "\n",
       "    .dataframe thead th {\n",
       "        text-align: right;\n",
       "    }\n",
       "</style>\n",
       "<table border=\"1\" class=\"dataframe\">\n",
       "  <thead>\n",
       "    <tr style=\"text-align: right;\">\n",
       "      <th>predict</th>\n",
       "      <th>0</th>\n",
       "      <th>1</th>\n",
       "    </tr>\n",
       "    <tr>\n",
       "      <th>real</th>\n",
       "      <th></th>\n",
       "      <th></th>\n",
       "    </tr>\n",
       "  </thead>\n",
       "  <tbody>\n",
       "    <tr>\n",
       "      <th>0</th>\n",
       "      <td>103</td>\n",
       "      <td>9</td>\n",
       "    </tr>\n",
       "    <tr>\n",
       "      <th>1</th>\n",
       "      <td>21</td>\n",
       "      <td>46</td>\n",
       "    </tr>\n",
       "  </tbody>\n",
       "</table>\n",
       "</div>"
      ],
      "text/plain": [
       "predict    0   1\n",
       "real            \n",
       "0        103   9\n",
       "1         21  46"
      ]
     },
     "execution_count": 57,
     "metadata": {},
     "output_type": "execute_result"
    }
   ],
   "source": [
    "clf_lrcv = LogisticRegressionCV()\n",
    "clf_lrcv.fit(X_train, y_train)\n",
    "pred_lrcv = clf_lrcv.predict(X_test)\n",
    "print(classification_report(y_test, pred_lrcv))\n",
    "pd.crosstab(y_test, pred_lrcv, rownames=['real'], colnames =  ['predict'])"
   ]
  },
  {
   "cell_type": "code",
   "execution_count": 58,
   "id": "004484f4",
   "metadata": {},
   "outputs": [
    {
     "name": "stderr",
     "output_type": "stream",
     "text": [
      "D:\\Aconda\\envs\\py11\\Lib\\site-packages\\sklearn\\base.py:458: UserWarning: X has feature names, but LogisticRegression was fitted without feature names\n",
      "  warnings.warn(\n"
     ]
    },
    {
     "data": {
      "text/html": [
       "<div>\n",
       "<style scoped>\n",
       "    .dataframe tbody tr th:only-of-type {\n",
       "        vertical-align: middle;\n",
       "    }\n",
       "\n",
       "    .dataframe tbody tr th {\n",
       "        vertical-align: top;\n",
       "    }\n",
       "\n",
       "    .dataframe thead th {\n",
       "        text-align: right;\n",
       "    }\n",
       "</style>\n",
       "<table border=\"1\" class=\"dataframe\">\n",
       "  <thead>\n",
       "    <tr style=\"text-align: right;\">\n",
       "      <th></th>\n",
       "      <th>lr_10_lbfgs</th>\n",
       "      <th>lr_0.1_lbfgs</th>\n",
       "    </tr>\n",
       "    <tr>\n",
       "      <th>PassengerId</th>\n",
       "      <th></th>\n",
       "      <th></th>\n",
       "    </tr>\n",
       "  </thead>\n",
       "  <tbody>\n",
       "    <tr>\n",
       "      <th>892</th>\n",
       "      <td>0</td>\n",
       "      <td>0</td>\n",
       "    </tr>\n",
       "    <tr>\n",
       "      <th>893</th>\n",
       "      <td>1</td>\n",
       "      <td>0</td>\n",
       "    </tr>\n",
       "    <tr>\n",
       "      <th>894</th>\n",
       "      <td>0</td>\n",
       "      <td>0</td>\n",
       "    </tr>\n",
       "    <tr>\n",
       "      <th>895</th>\n",
       "      <td>0</td>\n",
       "      <td>0</td>\n",
       "    </tr>\n",
       "    <tr>\n",
       "      <th>896</th>\n",
       "      <td>1</td>\n",
       "      <td>0</td>\n",
       "    </tr>\n",
       "  </tbody>\n",
       "</table>\n",
       "</div>"
      ],
      "text/plain": [
       "             lr_10_lbfgs  lr_0.1_lbfgs\n",
       "PassengerId                           \n",
       "892                    0             0\n",
       "893                    1             0\n",
       "894                    0             0\n",
       "895                    0             0\n",
       "896                    1             0"
      ]
     },
     "execution_count": 58,
     "metadata": {},
     "output_type": "execute_result"
    }
   ],
   "source": [
    "# try to do some real prediction\n",
    "pred_test_set = grid_lr.best_estimator_.predict(test_p2)\n",
    "df_results['lr_0.1_lbfgs'] = pred_test_set\n",
    "df_results.head()"
   ]
  },
  {
   "cell_type": "code",
   "execution_count": 59,
   "id": "8deca2a2",
   "metadata": {},
   "outputs": [],
   "source": [
    "filepath = Path('D:/Self_Train/Step2_Project/Titanic/results.csv')  \n",
    "filepath.parent.mkdir(parents=True, exist_ok=True)  \n",
    "df_results.to_csv(filepath) "
   ]
  },
  {
   "cell_type": "code",
   "execution_count": 60,
   "id": "9ce069ed",
   "metadata": {},
   "outputs": [
    {
     "name": "stderr",
     "output_type": "stream",
     "text": [
      "D:\\Aconda\\envs\\py11\\Lib\\site-packages\\sklearn\\metrics\\_classification.py:1469: UndefinedMetricWarning: Precision and F-score are ill-defined and being set to 0.0 in labels with no predicted samples. Use `zero_division` parameter to control this behavior.\n",
      "  _warn_prf(average, modifier, msg_start, len(result))\n",
      "D:\\Aconda\\envs\\py11\\Lib\\site-packages\\sklearn\\metrics\\_classification.py:1469: UndefinedMetricWarning: Precision and F-score are ill-defined and being set to 0.0 in labels with no predicted samples. Use `zero_division` parameter to control this behavior.\n",
      "  _warn_prf(average, modifier, msg_start, len(result))\n",
      "D:\\Aconda\\envs\\py11\\Lib\\site-packages\\sklearn\\metrics\\_classification.py:1469: UndefinedMetricWarning: Precision and F-score are ill-defined and being set to 0.0 in labels with no predicted samples. Use `zero_division` parameter to control this behavior.\n",
      "  _warn_prf(average, modifier, msg_start, len(result))\n"
     ]
    },
    {
     "data": {
      "text/html": [
       "<div>\n",
       "<style scoped>\n",
       "    .dataframe tbody tr th:only-of-type {\n",
       "        vertical-align: middle;\n",
       "    }\n",
       "\n",
       "    .dataframe tbody tr th {\n",
       "        vertical-align: top;\n",
       "    }\n",
       "\n",
       "    .dataframe thead th {\n",
       "        text-align: right;\n",
       "    }\n",
       "</style>\n",
       "<table border=\"1\" class=\"dataframe\">\n",
       "  <thead>\n",
       "    <tr style=\"text-align: right;\">\n",
       "      <th>predict</th>\n",
       "      <th>0</th>\n",
       "    </tr>\n",
       "    <tr>\n",
       "      <th>real</th>\n",
       "      <th></th>\n",
       "    </tr>\n",
       "  </thead>\n",
       "  <tbody>\n",
       "    <tr>\n",
       "      <th>0</th>\n",
       "      <td>266</td>\n",
       "    </tr>\n",
       "    <tr>\n",
       "      <th>1</th>\n",
       "      <td>152</td>\n",
       "    </tr>\n",
       "  </tbody>\n",
       "</table>\n",
       "</div>"
      ],
      "text/plain": [
       "predict    0\n",
       "real        \n",
       "0        266\n",
       "1        152"
      ]
     },
     "metadata": {},
     "output_type": "display_data"
    },
    {
     "name": "stdout",
     "output_type": "stream",
     "text": [
      "              precision    recall  f1-score   support\n",
      "\n",
      "           0       0.64      1.00      0.78       266\n",
      "           1       0.00      0.00      0.00       152\n",
      "\n",
      "    accuracy                           0.64       418\n",
      "   macro avg       0.32      0.50      0.39       418\n",
      "weighted avg       0.40      0.64      0.49       418\n",
      "\n"
     ]
    }
   ],
   "source": [
    "# testset performance evaluation\n",
    "dic_lr2 = evaluation_performance(test_result.iloc[:,0].to_numpy(),df_results['lr_0.1_lbfgs'].to_numpy())\n",
    "display(dic_lr2['Cross_Table'])\n",
    "print(dic_lr2['Classification_Report'])"
   ]
  },
  {
   "cell_type": "raw",
   "id": "d9a82f6a",
   "metadata": {},
   "source": [
    "Only 0 in the prediction ..."
   ]
  },
  {
   "cell_type": "markdown",
   "id": "bddbad44",
   "metadata": {},
   "source": [
    "# Decision tree"
   ]
  },
  {
   "cell_type": "code",
   "execution_count": 62,
   "id": "c17ec3e0",
   "metadata": {},
   "outputs": [
    {
     "data": {
      "text/html": [
       "<div>\n",
       "<style scoped>\n",
       "    .dataframe tbody tr th:only-of-type {\n",
       "        vertical-align: middle;\n",
       "    }\n",
       "\n",
       "    .dataframe tbody tr th {\n",
       "        vertical-align: top;\n",
       "    }\n",
       "\n",
       "    .dataframe thead th {\n",
       "        text-align: right;\n",
       "    }\n",
       "</style>\n",
       "<table border=\"1\" class=\"dataframe\">\n",
       "  <thead>\n",
       "    <tr style=\"text-align: right;\">\n",
       "      <th></th>\n",
       "      <th>Pclass</th>\n",
       "      <th>Age</th>\n",
       "      <th>SibSp</th>\n",
       "      <th>Parch</th>\n",
       "      <th>Sex_female</th>\n",
       "      <th>Sex_male</th>\n",
       "    </tr>\n",
       "    <tr>\n",
       "      <th>PassengerId</th>\n",
       "      <th></th>\n",
       "      <th></th>\n",
       "      <th></th>\n",
       "      <th></th>\n",
       "      <th></th>\n",
       "      <th></th>\n",
       "    </tr>\n",
       "  </thead>\n",
       "  <tbody>\n",
       "    <tr>\n",
       "      <th>1</th>\n",
       "      <td>3</td>\n",
       "      <td>22.0</td>\n",
       "      <td>1</td>\n",
       "      <td>0</td>\n",
       "      <td>0</td>\n",
       "      <td>1</td>\n",
       "    </tr>\n",
       "    <tr>\n",
       "      <th>2</th>\n",
       "      <td>1</td>\n",
       "      <td>38.0</td>\n",
       "      <td>1</td>\n",
       "      <td>0</td>\n",
       "      <td>1</td>\n",
       "      <td>0</td>\n",
       "    </tr>\n",
       "    <tr>\n",
       "      <th>3</th>\n",
       "      <td>3</td>\n",
       "      <td>26.0</td>\n",
       "      <td>0</td>\n",
       "      <td>0</td>\n",
       "      <td>1</td>\n",
       "      <td>0</td>\n",
       "    </tr>\n",
       "    <tr>\n",
       "      <th>4</th>\n",
       "      <td>1</td>\n",
       "      <td>35.0</td>\n",
       "      <td>1</td>\n",
       "      <td>0</td>\n",
       "      <td>1</td>\n",
       "      <td>0</td>\n",
       "    </tr>\n",
       "    <tr>\n",
       "      <th>5</th>\n",
       "      <td>3</td>\n",
       "      <td>35.0</td>\n",
       "      <td>0</td>\n",
       "      <td>0</td>\n",
       "      <td>0</td>\n",
       "      <td>1</td>\n",
       "    </tr>\n",
       "  </tbody>\n",
       "</table>\n",
       "</div>"
      ],
      "text/plain": [
       "             Pclass   Age  SibSp  Parch  Sex_female  Sex_male\n",
       "PassengerId                                                  \n",
       "1                 3  22.0      1      0           0         1\n",
       "2                 1  38.0      1      0           1         0\n",
       "3                 3  26.0      0      0           1         0\n",
       "4                 1  35.0      1      0           1         0\n",
       "5                 3  35.0      0      0           0         1"
      ]
     },
     "execution_count": 62,
     "metadata": {},
     "output_type": "execute_result"
    }
   ],
   "source": [
    "from sklearn.model_selection import train_test_split,GridSearchCV\n",
    "from sklearn.tree import DecisionTreeClassifier\n",
    "\n",
    "train_dt = train\n",
    "test_dt = test\n",
    "train_dt = train_dt.join(pd.get_dummies(train_dt['Sex'],prefix='Sex',dtype= int))\n",
    "test_dt = test_dt.join(pd.get_dummies(test_dt['Sex'],prefix='Sex',dtype= int))\n",
    "train_dt.drop('Sex',axis =1, inplace = True)\n",
    "test_dt.drop('Sex',axis =1, inplace = True)\n",
    "train_dt.head()"
   ]
  },
  {
   "cell_type": "code",
   "execution_count": 63,
   "id": "e4b1e6d1",
   "metadata": {},
   "outputs": [
    {
     "name": "stdout",
     "output_type": "stream",
     "text": [
      "                                     params  mean_test_score\n",
      "0  {'criterion': 'entropy', 'max_depth': 1}         0.775327\n",
      "1  {'criterion': 'entropy', 'max_depth': 2}         0.782271\n",
      "2  {'criterion': 'entropy', 'max_depth': 3}         0.771112\n",
      "3  {'criterion': 'entropy', 'max_depth': 4}         0.797813\n",
      "4  {'criterion': 'entropy', 'max_depth': 5}         0.786556\n",
      "5     {'criterion': 'gini', 'max_depth': 1}         0.775327\n",
      "6     {'criterion': 'gini', 'max_depth': 2}         0.782271\n",
      "7     {'criterion': 'gini', 'max_depth': 3}         0.775337\n",
      "8     {'criterion': 'gini', 'max_depth': 4}         0.797764\n",
      "9     {'criterion': 'gini', 'max_depth': 5}         0.794977\n",
      "{'criterion': 'entropy', 'max_depth': 4}\n"
     ]
    }
   ],
   "source": [
    "X_train,X_test, y_train, y_test = train_test_split(train_dt, target, \n",
    "                                                  test_size = 0.2,\n",
    "                                                  random_state= 20)\n",
    "params_dt = {'criterion': ['entropy','gini'],'max_depth':[1,2,3,4,5]}\n",
    "clf_dt = DecisionTreeClassifier()\n",
    "grid_dt = GridSearchCV(estimator = clf_dt, param_grid=params_dt)\n",
    "grille = grid_dt.fit(X_train,y_train)\n",
    "print(pd.DataFrame.from_dict(grille.cv_results_).loc[:,['params','mean_test_score']])\n",
    "print(grille.best_params_)\n"
   ]
  },
  {
   "cell_type": "code",
   "execution_count": 64,
   "id": "6d148a8a",
   "metadata": {},
   "outputs": [
    {
     "data": {
      "text/html": [
       "<div>\n",
       "<style scoped>\n",
       "    .dataframe tbody tr th:only-of-type {\n",
       "        vertical-align: middle;\n",
       "    }\n",
       "\n",
       "    .dataframe tbody tr th {\n",
       "        vertical-align: top;\n",
       "    }\n",
       "\n",
       "    .dataframe thead th {\n",
       "        text-align: right;\n",
       "    }\n",
       "</style>\n",
       "<table border=\"1\" class=\"dataframe\">\n",
       "  <thead>\n",
       "    <tr style=\"text-align: right;\">\n",
       "      <th></th>\n",
       "      <th>Importance</th>\n",
       "    </tr>\n",
       "  </thead>\n",
       "  <tbody>\n",
       "    <tr>\n",
       "      <th>Sex_male</th>\n",
       "      <td>0.478422</td>\n",
       "    </tr>\n",
       "    <tr>\n",
       "      <th>Pclass</th>\n",
       "      <td>0.281966</td>\n",
       "    </tr>\n",
       "    <tr>\n",
       "      <th>Age</th>\n",
       "      <td>0.148449</td>\n",
       "    </tr>\n",
       "    <tr>\n",
       "      <th>SibSp</th>\n",
       "      <td>0.091163</td>\n",
       "    </tr>\n",
       "    <tr>\n",
       "      <th>Parch</th>\n",
       "      <td>0.000000</td>\n",
       "    </tr>\n",
       "    <tr>\n",
       "      <th>Sex_female</th>\n",
       "      <td>0.000000</td>\n",
       "    </tr>\n",
       "  </tbody>\n",
       "</table>\n",
       "</div>"
      ],
      "text/plain": [
       "            Importance\n",
       "Sex_male      0.478422\n",
       "Pclass        0.281966\n",
       "Age           0.148449\n",
       "SibSp         0.091163\n",
       "Parch         0.000000\n",
       "Sex_female    0.000000"
      ]
     },
     "execution_count": 64,
     "metadata": {},
     "output_type": "execute_result"
    }
   ],
   "source": [
    "# feature importance \n",
    "feats = {}\n",
    "for feature, importance in zip(train_dt.columns, grille.best_estimator_.feature_importances_):\n",
    "    feats[feature] = importance\n",
    "    \n",
    "importances = pd.DataFrame.from_dict(feats, orient='index').rename(columns={0:'Importance'})\n",
    "importances.sort_values(by= 'Importance', ascending=False).head(6)"
   ]
  },
  {
   "cell_type": "code",
   "execution_count": 65,
   "id": "0ef0f24a",
   "metadata": {},
   "outputs": [
    {
     "name": "stdout",
     "output_type": "stream",
     "text": [
      "cross table:\n"
     ]
    },
    {
     "data": {
      "text/html": [
       "<div>\n",
       "<style scoped>\n",
       "    .dataframe tbody tr th:only-of-type {\n",
       "        vertical-align: middle;\n",
       "    }\n",
       "\n",
       "    .dataframe tbody tr th {\n",
       "        vertical-align: top;\n",
       "    }\n",
       "\n",
       "    .dataframe thead th {\n",
       "        text-align: right;\n",
       "    }\n",
       "</style>\n",
       "<table border=\"1\" class=\"dataframe\">\n",
       "  <thead>\n",
       "    <tr style=\"text-align: right;\">\n",
       "      <th>predict</th>\n",
       "      <th>0</th>\n",
       "      <th>1</th>\n",
       "    </tr>\n",
       "    <tr>\n",
       "      <th>real</th>\n",
       "      <th></th>\n",
       "      <th></th>\n",
       "    </tr>\n",
       "  </thead>\n",
       "  <tbody>\n",
       "    <tr>\n",
       "      <th>0</th>\n",
       "      <td>105</td>\n",
       "      <td>7</td>\n",
       "    </tr>\n",
       "    <tr>\n",
       "      <th>1</th>\n",
       "      <td>17</td>\n",
       "      <td>50</td>\n",
       "    </tr>\n",
       "  </tbody>\n",
       "</table>\n",
       "</div>"
      ],
      "text/plain": [
       "predict    0   1\n",
       "real            \n",
       "0        105   7\n",
       "1         17  50"
      ]
     },
     "metadata": {},
     "output_type": "display_data"
    },
    {
     "name": "stdout",
     "output_type": "stream",
     "text": [
      "classification report:\n",
      "              precision    recall  f1-score   support\n",
      "\n",
      "           0       0.86      0.94      0.90       112\n",
      "           1       0.88      0.75      0.81        67\n",
      "\n",
      "    accuracy                           0.87       179\n",
      "   macro avg       0.87      0.84      0.85       179\n",
      "weighted avg       0.87      0.87      0.86       179\n",
      "\n"
     ]
    }
   ],
   "source": [
    "pred_dt = grille.best_estimator_.predict(X_test)\n",
    "ef_dt = evaluation_performance(y_test,pred_dt)\n",
    "print('cross table:')\n",
    "display(ef_dt['Cross_Table'])\n",
    "print('classification report:')\n",
    "print(ef_dt['Classification_Report'])\n",
    "      "
   ]
  },
  {
   "cell_type": "code",
   "execution_count": 66,
   "id": "51c5ec19",
   "metadata": {},
   "outputs": [
    {
     "data": {
      "text/html": [
       "<div>\n",
       "<style scoped>\n",
       "    .dataframe tbody tr th:only-of-type {\n",
       "        vertical-align: middle;\n",
       "    }\n",
       "\n",
       "    .dataframe tbody tr th {\n",
       "        vertical-align: top;\n",
       "    }\n",
       "\n",
       "    .dataframe thead th {\n",
       "        text-align: right;\n",
       "    }\n",
       "</style>\n",
       "<table border=\"1\" class=\"dataframe\">\n",
       "  <thead>\n",
       "    <tr style=\"text-align: right;\">\n",
       "      <th></th>\n",
       "      <th>lr_10_lbfgs</th>\n",
       "      <th>lr_0.1_lbfgs</th>\n",
       "      <th>dt_entropy_4</th>\n",
       "    </tr>\n",
       "    <tr>\n",
       "      <th>PassengerId</th>\n",
       "      <th></th>\n",
       "      <th></th>\n",
       "      <th></th>\n",
       "    </tr>\n",
       "  </thead>\n",
       "  <tbody>\n",
       "    <tr>\n",
       "      <th>892</th>\n",
       "      <td>0</td>\n",
       "      <td>0</td>\n",
       "      <td>0</td>\n",
       "    </tr>\n",
       "    <tr>\n",
       "      <th>893</th>\n",
       "      <td>1</td>\n",
       "      <td>0</td>\n",
       "      <td>0</td>\n",
       "    </tr>\n",
       "    <tr>\n",
       "      <th>894</th>\n",
       "      <td>0</td>\n",
       "      <td>0</td>\n",
       "      <td>0</td>\n",
       "    </tr>\n",
       "    <tr>\n",
       "      <th>895</th>\n",
       "      <td>0</td>\n",
       "      <td>0</td>\n",
       "      <td>0</td>\n",
       "    </tr>\n",
       "    <tr>\n",
       "      <th>896</th>\n",
       "      <td>1</td>\n",
       "      <td>0</td>\n",
       "      <td>1</td>\n",
       "    </tr>\n",
       "  </tbody>\n",
       "</table>\n",
       "</div>"
      ],
      "text/plain": [
       "             lr_10_lbfgs  lr_0.1_lbfgs  dt_entropy_4\n",
       "PassengerId                                         \n",
       "892                    0             0             0\n",
       "893                    1             0             0\n",
       "894                    0             0             0\n",
       "895                    0             0             0\n",
       "896                    1             0             1"
      ]
     },
     "execution_count": 66,
     "metadata": {},
     "output_type": "execute_result"
    }
   ],
   "source": [
    "df_results['dt_entropy_4']= grille.best_estimator_.predict(test_dt)\n",
    "df_results.head()"
   ]
  },
  {
   "cell_type": "code",
   "execution_count": 67,
   "id": "35c0eec0",
   "metadata": {},
   "outputs": [],
   "source": [
    "prediction_save_csv(df_results,filepath)"
   ]
  },
  {
   "cell_type": "code",
   "execution_count": 68,
   "id": "9526391c",
   "metadata": {},
   "outputs": [],
   "source": [
    "filepath_model_dt = Path('D:/Self_Train/Step2_Project/Titanic/models/dt_entropy_4.joblib')  \n",
    "save_model_joblib(grille.best_estimator_,filepath_model_dt)"
   ]
  },
  {
   "cell_type": "code",
   "execution_count": 70,
   "id": "96212bac",
   "metadata": {},
   "outputs": [
    {
     "data": {
      "text/html": [
       "<div>\n",
       "<style scoped>\n",
       "    .dataframe tbody tr th:only-of-type {\n",
       "        vertical-align: middle;\n",
       "    }\n",
       "\n",
       "    .dataframe tbody tr th {\n",
       "        vertical-align: top;\n",
       "    }\n",
       "\n",
       "    .dataframe thead th {\n",
       "        text-align: right;\n",
       "    }\n",
       "</style>\n",
       "<table border=\"1\" class=\"dataframe\">\n",
       "  <thead>\n",
       "    <tr style=\"text-align: right;\">\n",
       "      <th>predict</th>\n",
       "      <th>0</th>\n",
       "      <th>1</th>\n",
       "    </tr>\n",
       "    <tr>\n",
       "      <th>real</th>\n",
       "      <th></th>\n",
       "      <th></th>\n",
       "    </tr>\n",
       "  </thead>\n",
       "  <tbody>\n",
       "    <tr>\n",
       "      <th>0</th>\n",
       "      <td>254</td>\n",
       "      <td>12</td>\n",
       "    </tr>\n",
       "    <tr>\n",
       "      <th>1</th>\n",
       "      <td>6</td>\n",
       "      <td>146</td>\n",
       "    </tr>\n",
       "  </tbody>\n",
       "</table>\n",
       "</div>"
      ],
      "text/plain": [
       "predict    0    1\n",
       "real             \n",
       "0        254   12\n",
       "1          6  146"
      ]
     },
     "metadata": {},
     "output_type": "display_data"
    },
    {
     "name": "stdout",
     "output_type": "stream",
     "text": [
      "              precision    recall  f1-score   support\n",
      "\n",
      "           0       0.98      0.95      0.97       266\n",
      "           1       0.92      0.96      0.94       152\n",
      "\n",
      "    accuracy                           0.96       418\n",
      "   macro avg       0.95      0.96      0.95       418\n",
      "weighted avg       0.96      0.96      0.96       418\n",
      "\n"
     ]
    }
   ],
   "source": [
    "# testset performance evaluation\n",
    "dic_dt = evaluation_performance(test_result.iloc[:,0].to_numpy(),df_results['dt_entropy_4'].to_numpy())\n",
    "display(dic_dt['Cross_Table'])\n",
    "print(dic_dt['Classification_Report'])"
   ]
  },
  {
   "cell_type": "markdown",
   "id": "4b873180",
   "metadata": {},
   "source": [
    "# Random forest"
   ]
  },
  {
   "cell_type": "code",
   "execution_count": 71,
   "id": "cb34a0af",
   "metadata": {},
   "outputs": [
    {
     "data": {
      "text/html": [
       "<div>\n",
       "<style scoped>\n",
       "    .dataframe tbody tr th:only-of-type {\n",
       "        vertical-align: middle;\n",
       "    }\n",
       "\n",
       "    .dataframe tbody tr th {\n",
       "        vertical-align: top;\n",
       "    }\n",
       "\n",
       "    .dataframe thead th {\n",
       "        text-align: right;\n",
       "    }\n",
       "</style>\n",
       "<table border=\"1\" class=\"dataframe\">\n",
       "  <thead>\n",
       "    <tr style=\"text-align: right;\">\n",
       "      <th></th>\n",
       "      <th>Pclass</th>\n",
       "      <th>Age</th>\n",
       "      <th>SibSp</th>\n",
       "      <th>Parch</th>\n",
       "      <th>Sex_female</th>\n",
       "      <th>Sex_male</th>\n",
       "    </tr>\n",
       "    <tr>\n",
       "      <th>PassengerId</th>\n",
       "      <th></th>\n",
       "      <th></th>\n",
       "      <th></th>\n",
       "      <th></th>\n",
       "      <th></th>\n",
       "      <th></th>\n",
       "    </tr>\n",
       "  </thead>\n",
       "  <tbody>\n",
       "    <tr>\n",
       "      <th>1</th>\n",
       "      <td>3</td>\n",
       "      <td>22.0</td>\n",
       "      <td>1</td>\n",
       "      <td>0</td>\n",
       "      <td>0</td>\n",
       "      <td>1</td>\n",
       "    </tr>\n",
       "    <tr>\n",
       "      <th>2</th>\n",
       "      <td>1</td>\n",
       "      <td>38.0</td>\n",
       "      <td>1</td>\n",
       "      <td>0</td>\n",
       "      <td>1</td>\n",
       "      <td>0</td>\n",
       "    </tr>\n",
       "    <tr>\n",
       "      <th>3</th>\n",
       "      <td>3</td>\n",
       "      <td>26.0</td>\n",
       "      <td>0</td>\n",
       "      <td>0</td>\n",
       "      <td>1</td>\n",
       "      <td>0</td>\n",
       "    </tr>\n",
       "    <tr>\n",
       "      <th>4</th>\n",
       "      <td>1</td>\n",
       "      <td>35.0</td>\n",
       "      <td>1</td>\n",
       "      <td>0</td>\n",
       "      <td>1</td>\n",
       "      <td>0</td>\n",
       "    </tr>\n",
       "    <tr>\n",
       "      <th>5</th>\n",
       "      <td>3</td>\n",
       "      <td>35.0</td>\n",
       "      <td>0</td>\n",
       "      <td>0</td>\n",
       "      <td>0</td>\n",
       "      <td>1</td>\n",
       "    </tr>\n",
       "  </tbody>\n",
       "</table>\n",
       "</div>"
      ],
      "text/plain": [
       "             Pclass   Age  SibSp  Parch  Sex_female  Sex_male\n",
       "PassengerId                                                  \n",
       "1                 3  22.0      1      0           0         1\n",
       "2                 1  38.0      1      0           1         0\n",
       "3                 3  26.0      0      0           1         0\n",
       "4                 1  35.0      1      0           1         0\n",
       "5                 3  35.0      0      0           0         1"
      ]
     },
     "execution_count": 71,
     "metadata": {},
     "output_type": "execute_result"
    }
   ],
   "source": [
    "from sklearn import ensemble\n",
    "\n",
    "train_rf = train\n",
    "test_rf = test\n",
    "train_rf = train_rf.join(pd.get_dummies(train_rf['Sex'],prefix='Sex',dtype= int))\n",
    "test_rf = test_rf.join(pd.get_dummies(test_rf['Sex'],prefix='Sex',dtype= int))\n",
    "train_rf.drop('Sex',axis =1, inplace = True)\n",
    "test_rf.drop('Sex',axis =1, inplace = True)\n",
    "train_rf.head()"
   ]
  },
  {
   "cell_type": "code",
   "execution_count": 72,
   "id": "258c279d",
   "metadata": {},
   "outputs": [
    {
     "data": {
      "text/html": [
       "<style>#sk-container-id-1 {color: black;}#sk-container-id-1 pre{padding: 0;}#sk-container-id-1 div.sk-toggleable {background-color: white;}#sk-container-id-1 label.sk-toggleable__label {cursor: pointer;display: block;width: 100%;margin-bottom: 0;padding: 0.3em;box-sizing: border-box;text-align: center;}#sk-container-id-1 label.sk-toggleable__label-arrow:before {content: \"▸\";float: left;margin-right: 0.25em;color: #696969;}#sk-container-id-1 label.sk-toggleable__label-arrow:hover:before {color: black;}#sk-container-id-1 div.sk-estimator:hover label.sk-toggleable__label-arrow:before {color: black;}#sk-container-id-1 div.sk-toggleable__content {max-height: 0;max-width: 0;overflow: hidden;text-align: left;background-color: #f0f8ff;}#sk-container-id-1 div.sk-toggleable__content pre {margin: 0.2em;color: black;border-radius: 0.25em;background-color: #f0f8ff;}#sk-container-id-1 input.sk-toggleable__control:checked~div.sk-toggleable__content {max-height: 200px;max-width: 100%;overflow: auto;}#sk-container-id-1 input.sk-toggleable__control:checked~label.sk-toggleable__label-arrow:before {content: \"▾\";}#sk-container-id-1 div.sk-estimator input.sk-toggleable__control:checked~label.sk-toggleable__label {background-color: #d4ebff;}#sk-container-id-1 div.sk-label input.sk-toggleable__control:checked~label.sk-toggleable__label {background-color: #d4ebff;}#sk-container-id-1 input.sk-hidden--visually {border: 0;clip: rect(1px 1px 1px 1px);clip: rect(1px, 1px, 1px, 1px);height: 1px;margin: -1px;overflow: hidden;padding: 0;position: absolute;width: 1px;}#sk-container-id-1 div.sk-estimator {font-family: monospace;background-color: #f0f8ff;border: 1px dotted black;border-radius: 0.25em;box-sizing: border-box;margin-bottom: 0.5em;}#sk-container-id-1 div.sk-estimator:hover {background-color: #d4ebff;}#sk-container-id-1 div.sk-parallel-item::after {content: \"\";width: 100%;border-bottom: 1px solid gray;flex-grow: 1;}#sk-container-id-1 div.sk-label:hover label.sk-toggleable__label {background-color: #d4ebff;}#sk-container-id-1 div.sk-serial::before {content: \"\";position: absolute;border-left: 1px solid gray;box-sizing: border-box;top: 0;bottom: 0;left: 50%;z-index: 0;}#sk-container-id-1 div.sk-serial {display: flex;flex-direction: column;align-items: center;background-color: white;padding-right: 0.2em;padding-left: 0.2em;position: relative;}#sk-container-id-1 div.sk-item {position: relative;z-index: 1;}#sk-container-id-1 div.sk-parallel {display: flex;align-items: stretch;justify-content: center;background-color: white;position: relative;}#sk-container-id-1 div.sk-item::before, #sk-container-id-1 div.sk-parallel-item::before {content: \"\";position: absolute;border-left: 1px solid gray;box-sizing: border-box;top: 0;bottom: 0;left: 50%;z-index: -1;}#sk-container-id-1 div.sk-parallel-item {display: flex;flex-direction: column;z-index: 1;position: relative;background-color: white;}#sk-container-id-1 div.sk-parallel-item:first-child::after {align-self: flex-end;width: 50%;}#sk-container-id-1 div.sk-parallel-item:last-child::after {align-self: flex-start;width: 50%;}#sk-container-id-1 div.sk-parallel-item:only-child::after {width: 0;}#sk-container-id-1 div.sk-dashed-wrapped {border: 1px dashed gray;margin: 0 0.4em 0.5em 0.4em;box-sizing: border-box;padding-bottom: 0.4em;background-color: white;}#sk-container-id-1 div.sk-label label {font-family: monospace;font-weight: bold;display: inline-block;line-height: 1.2em;}#sk-container-id-1 div.sk-label-container {text-align: center;}#sk-container-id-1 div.sk-container {/* jupyter's `normalize.less` sets `[hidden] { display: none; }` but bootstrap.min.css set `[hidden] { display: none !important; }` so we also need the `!important` here to be able to override the default hidden behavior on the sphinx rendered scikit-learn.org. See: https://github.com/scikit-learn/scikit-learn/issues/21755 */display: inline-block !important;position: relative;}#sk-container-id-1 div.sk-text-repr-fallback {display: none;}</style><div id=\"sk-container-id-1\" class=\"sk-top-container\"><div class=\"sk-text-repr-fallback\"><pre>RandomForestClassifier(n_jobs=-1, random_state=321)</pre><b>In a Jupyter environment, please rerun this cell to show the HTML representation or trust the notebook. <br />On GitHub, the HTML representation is unable to render, please try loading this page with nbviewer.org.</b></div><div class=\"sk-container\" hidden><div class=\"sk-item\"><div class=\"sk-estimator sk-toggleable\"><input class=\"sk-toggleable__control sk-hidden--visually\" id=\"sk-estimator-id-1\" type=\"checkbox\" checked><label for=\"sk-estimator-id-1\" class=\"sk-toggleable__label sk-toggleable__label-arrow\">RandomForestClassifier</label><div class=\"sk-toggleable__content\"><pre>RandomForestClassifier(n_jobs=-1, random_state=321)</pre></div></div></div></div></div>"
      ],
      "text/plain": [
       "RandomForestClassifier(n_jobs=-1, random_state=321)"
      ]
     },
     "execution_count": 72,
     "metadata": {},
     "output_type": "execute_result"
    }
   ],
   "source": [
    "X_train,X_test, y_train, y_test = train_test_split(train_rf, target, \n",
    "                                                  test_size = 0.2,\n",
    "                                                  random_state= 20)\n",
    "clf_rf = ensemble.RandomForestClassifier(n_jobs=-1, random_state=321)\n",
    "clf_rf.fit(X_train, y_train)"
   ]
  },
  {
   "cell_type": "code",
   "execution_count": 73,
   "id": "44f6d843",
   "metadata": {},
   "outputs": [
    {
     "name": "stdout",
     "output_type": "stream",
     "text": [
      "cross table:\n"
     ]
    },
    {
     "data": {
      "text/html": [
       "<div>\n",
       "<style scoped>\n",
       "    .dataframe tbody tr th:only-of-type {\n",
       "        vertical-align: middle;\n",
       "    }\n",
       "\n",
       "    .dataframe tbody tr th {\n",
       "        vertical-align: top;\n",
       "    }\n",
       "\n",
       "    .dataframe thead th {\n",
       "        text-align: right;\n",
       "    }\n",
       "</style>\n",
       "<table border=\"1\" class=\"dataframe\">\n",
       "  <thead>\n",
       "    <tr style=\"text-align: right;\">\n",
       "      <th>predict</th>\n",
       "      <th>0</th>\n",
       "      <th>1</th>\n",
       "    </tr>\n",
       "    <tr>\n",
       "      <th>real</th>\n",
       "      <th></th>\n",
       "      <th></th>\n",
       "    </tr>\n",
       "  </thead>\n",
       "  <tbody>\n",
       "    <tr>\n",
       "      <th>0</th>\n",
       "      <td>97</td>\n",
       "      <td>15</td>\n",
       "    </tr>\n",
       "    <tr>\n",
       "      <th>1</th>\n",
       "      <td>16</td>\n",
       "      <td>51</td>\n",
       "    </tr>\n",
       "  </tbody>\n",
       "</table>\n",
       "</div>"
      ],
      "text/plain": [
       "predict   0   1\n",
       "real           \n",
       "0        97  15\n",
       "1        16  51"
      ]
     },
     "metadata": {},
     "output_type": "display_data"
    },
    {
     "name": "stdout",
     "output_type": "stream",
     "text": [
      "classification report:\n",
      "              precision    recall  f1-score   support\n",
      "\n",
      "           0       0.86      0.87      0.86       112\n",
      "           1       0.77      0.76      0.77        67\n",
      "\n",
      "    accuracy                           0.83       179\n",
      "   macro avg       0.82      0.81      0.81       179\n",
      "weighted avg       0.83      0.83      0.83       179\n",
      "\n"
     ]
    }
   ],
   "source": [
    "pred_rf = clf_rf.predict(X_test)\n",
    "ef_rf = evaluation_performance(y_test,pred_rf)\n",
    "print('cross table:')\n",
    "display(ef_rf['Cross_Table'])\n",
    "print('classification report:')\n",
    "print(ef_rf['Classification_Report'])"
   ]
  },
  {
   "cell_type": "code",
   "execution_count": 74,
   "id": "0705deb3",
   "metadata": {},
   "outputs": [
    {
     "data": {
      "text/html": [
       "<div>\n",
       "<style scoped>\n",
       "    .dataframe tbody tr th:only-of-type {\n",
       "        vertical-align: middle;\n",
       "    }\n",
       "\n",
       "    .dataframe tbody tr th {\n",
       "        vertical-align: top;\n",
       "    }\n",
       "\n",
       "    .dataframe thead th {\n",
       "        text-align: right;\n",
       "    }\n",
       "</style>\n",
       "<table border=\"1\" class=\"dataframe\">\n",
       "  <thead>\n",
       "    <tr style=\"text-align: right;\">\n",
       "      <th></th>\n",
       "      <th>lr_10_lbfgs</th>\n",
       "      <th>lr_0.1_lbfgs</th>\n",
       "      <th>dt_entropy_4</th>\n",
       "      <th>rf</th>\n",
       "    </tr>\n",
       "    <tr>\n",
       "      <th>PassengerId</th>\n",
       "      <th></th>\n",
       "      <th></th>\n",
       "      <th></th>\n",
       "      <th></th>\n",
       "    </tr>\n",
       "  </thead>\n",
       "  <tbody>\n",
       "    <tr>\n",
       "      <th>892</th>\n",
       "      <td>0</td>\n",
       "      <td>0</td>\n",
       "      <td>0</td>\n",
       "      <td>0</td>\n",
       "    </tr>\n",
       "    <tr>\n",
       "      <th>893</th>\n",
       "      <td>1</td>\n",
       "      <td>0</td>\n",
       "      <td>0</td>\n",
       "      <td>0</td>\n",
       "    </tr>\n",
       "    <tr>\n",
       "      <th>894</th>\n",
       "      <td>0</td>\n",
       "      <td>0</td>\n",
       "      <td>0</td>\n",
       "      <td>1</td>\n",
       "    </tr>\n",
       "    <tr>\n",
       "      <th>895</th>\n",
       "      <td>0</td>\n",
       "      <td>0</td>\n",
       "      <td>0</td>\n",
       "      <td>1</td>\n",
       "    </tr>\n",
       "    <tr>\n",
       "      <th>896</th>\n",
       "      <td>1</td>\n",
       "      <td>0</td>\n",
       "      <td>1</td>\n",
       "      <td>0</td>\n",
       "    </tr>\n",
       "  </tbody>\n",
       "</table>\n",
       "</div>"
      ],
      "text/plain": [
       "             lr_10_lbfgs  lr_0.1_lbfgs  dt_entropy_4  rf\n",
       "PassengerId                                             \n",
       "892                    0             0             0   0\n",
       "893                    1             0             0   0\n",
       "894                    0             0             0   1\n",
       "895                    0             0             0   1\n",
       "896                    1             0             1   0"
      ]
     },
     "execution_count": 74,
     "metadata": {},
     "output_type": "execute_result"
    }
   ],
   "source": [
    "df_results['rf']= clf_rf.predict(test_rf)\n",
    "df_results.head()"
   ]
  },
  {
   "cell_type": "code",
   "execution_count": 75,
   "id": "d67a5aa9",
   "metadata": {},
   "outputs": [],
   "source": [
    "prediction_save_csv(df_results,filepath)"
   ]
  },
  {
   "cell_type": "code",
   "execution_count": 76,
   "id": "22855e5f",
   "metadata": {},
   "outputs": [],
   "source": [
    "filepath_model_rf = Path('D:/Self_Train/Step2_Project/Titanic/models/random_forest.joblib')  \n",
    "save_model_joblib(clf_rf,filepath_model_rf)"
   ]
  },
  {
   "cell_type": "code",
   "execution_count": 77,
   "id": "fe71d89d",
   "metadata": {},
   "outputs": [
    {
     "data": {
      "text/html": [
       "<div>\n",
       "<style scoped>\n",
       "    .dataframe tbody tr th:only-of-type {\n",
       "        vertical-align: middle;\n",
       "    }\n",
       "\n",
       "    .dataframe tbody tr th {\n",
       "        vertical-align: top;\n",
       "    }\n",
       "\n",
       "    .dataframe thead th {\n",
       "        text-align: right;\n",
       "    }\n",
       "</style>\n",
       "<table border=\"1\" class=\"dataframe\">\n",
       "  <thead>\n",
       "    <tr style=\"text-align: right;\">\n",
       "      <th>predict</th>\n",
       "      <th>0</th>\n",
       "      <th>1</th>\n",
       "    </tr>\n",
       "    <tr>\n",
       "      <th>real</th>\n",
       "      <th></th>\n",
       "      <th></th>\n",
       "    </tr>\n",
       "  </thead>\n",
       "  <tbody>\n",
       "    <tr>\n",
       "      <th>0</th>\n",
       "      <td>215</td>\n",
       "      <td>51</td>\n",
       "    </tr>\n",
       "    <tr>\n",
       "      <th>1</th>\n",
       "      <td>54</td>\n",
       "      <td>98</td>\n",
       "    </tr>\n",
       "  </tbody>\n",
       "</table>\n",
       "</div>"
      ],
      "text/plain": [
       "predict    0   1\n",
       "real            \n",
       "0        215  51\n",
       "1         54  98"
      ]
     },
     "metadata": {},
     "output_type": "display_data"
    },
    {
     "name": "stdout",
     "output_type": "stream",
     "text": [
      "              precision    recall  f1-score   support\n",
      "\n",
      "           0       0.80      0.81      0.80       266\n",
      "           1       0.66      0.64      0.65       152\n",
      "\n",
      "    accuracy                           0.75       418\n",
      "   macro avg       0.73      0.73      0.73       418\n",
      "weighted avg       0.75      0.75      0.75       418\n",
      "\n"
     ]
    }
   ],
   "source": [
    "# testset performance evaluation\n",
    "dic_rf = evaluation_performance(test_result.iloc[:,0].to_numpy(),df_results['rf'].to_numpy())\n",
    "display(dic_rf['Cross_Table'])\n",
    "print(dic_rf['Classification_Report'])"
   ]
  }
 ],
 "metadata": {
  "kernelspec": {
   "display_name": "conda_py11",
   "language": "python",
   "name": "py11"
  },
  "language_info": {
   "codemirror_mode": {
    "name": "ipython",
    "version": 3
   },
   "file_extension": ".py",
   "mimetype": "text/x-python",
   "name": "python",
   "nbconvert_exporter": "python",
   "pygments_lexer": "ipython3",
   "version": "3.11.5"
  }
 },
 "nbformat": 4,
 "nbformat_minor": 5
}
